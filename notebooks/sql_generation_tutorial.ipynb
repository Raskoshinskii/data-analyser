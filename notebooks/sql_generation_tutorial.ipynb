{
 "cells": [
  {
   "cell_type": "markdown",
   "id": "d8871301",
   "metadata": {},
   "source": [
    "### SQL Generation Tutorial\n",
    "The notebook demonstrates how to generate SQL queries based on text description"
   ]
  },
  {
   "cell_type": "code",
   "execution_count": 9,
   "id": "1692bd4f",
   "metadata": {},
   "outputs": [
    {
     "name": "stdout",
     "output_type": "stream",
     "text": [
      "Project root: /home/vlad/dev/data-analyser\n",
      "Current working directory: /home/vlad/dev/data-analyser/notebooks\n"
     ]
    }
   ],
   "source": [
    "import os\n",
    "import sys\n",
    "import logging\n",
    "from pathlib import Path\n",
    "\n",
    "# Add the project root to Python path\n",
    "project_root = Path().absolute().parent\n",
    "sys.path.append(str(project_root))\n",
    "\n",
    "logging.basicConfig(level=logging.INFO, format='%(asctime)s - %(name)s - %(levelname)s - %(message)s')\n",
    "logger = logging.getLogger(__name__)\n",
    "\n",
    "print(f\"Project root: {project_root}\")\n",
    "print(f\"Current working directory: {os.getcwd()}\")"
   ]
  },
  {
   "cell_type": "code",
   "execution_count": null,
   "id": "581cf71a",
   "metadata": {},
   "outputs": [
    {
     "data": {
      "text/plain": [
       "True"
      ]
     },
     "execution_count": 10,
     "metadata": {},
     "output_type": "execute_result"
    }
   ],
   "source": [
    "from src.agent.agent import DataAnalysisAgent\n",
    "from src.tools.sql_tool import SQLTool\n",
    "from dotenv import load_dotenv\n",
    "\n",
    "load_dotenv()"
   ]
  },
  {
   "cell_type": "markdown",
   "id": "9c03887e",
   "metadata": {},
   "source": [
    "## Initialize Agent and SQL Tool"
   ]
  },
  {
   "cell_type": "code",
   "execution_count": null,
   "id": "97cd577e",
   "metadata": {},
   "outputs": [],
   "source": [
    "# agent\n",
    "agent = DataAnalysisAgent(config_path=str(project_root / \"config\" / \"config.yaml\"))\n",
    "\n",
    "# tools\n",
    "sql_tool = SQLTool(llm=agent.llm)"
   ]
  },
  {
   "cell_type": "code",
   "execution_count": 5,
   "id": "6b7d198e",
   "metadata": {},
   "outputs": [
    {
     "name": "stdout",
     "output_type": "stream",
     "text": [
      "📋 Available Database Schema:\n",
      "==================================================\n",
      "\n",
      "🗂️  Table: models\n",
      "\tColumns:\n",
      "\t - model_id (INTEGER)\n",
      "\t - model_name (TEXT)\n",
      "\t - model_code (TEXT)\n",
      "\t - production_start_year (INTEGER)\n",
      "\t - production_end_year (INTEGER)\n",
      "\t - segment (TEXT)\n",
      "\t - base_price (REAL)\n",
      "\t - horsepower (INTEGER)\n",
      "\t - body_type (TEXT)\n",
      "\t - is_electric (INTEGER)\n",
      "\t - description (TEXT)\n",
      "\n",
      "🗂️  Table: dealerships\n",
      "\tColumns:\n",
      "\t - dealership_id (INTEGER)\n",
      "\t - name (TEXT)\n",
      "\t - address (TEXT)\n",
      "\t - city (TEXT)\n",
      "\t - country (TEXT)\n",
      "\t - region (TEXT)\n",
      "\t - opening_date (TEXT)\n",
      "\t - service_center (INTEGER)\n",
      "\t - sales_capacity (INTEGER)\n",
      "\t - rating (REAL)\n",
      "\t - manager_name (TEXT)\n",
      "\n",
      "🗂️  Table: customers\n",
      "\tColumns:\n",
      "\t - customer_id (INTEGER)\n",
      "\t - first_name (TEXT)\n",
      "\t - last_name (TEXT)\n",
      "\t - email (TEXT)\n",
      "\t - phone (TEXT)\n",
      "\t - address (TEXT)\n",
      "\t - city (TEXT)\n",
      "\t - country (TEXT)\n",
      "\t - date_of_birth (TEXT)\n",
      "\t - registration_date (TEXT)\n",
      "\t - loyalty_points (INTEGER)\n",
      "\t - preferred_dealership_id (INTEGER)\n",
      "\n",
      "🗂️  Table: sales\n",
      "\tColumns:\n",
      "\t - sale_id (INTEGER)\n",
      "\t - customer_id (INTEGER)\n",
      "\t - dealership_id (INTEGER)\n",
      "\t - model_id (INTEGER)\n",
      "\t - sale_date (TEXT)\n",
      "\t - price (REAL)\n",
      "\t - payment_method (TEXT)\n",
      "\t - currency (TEXT)\n",
      "\t - customization_cost (REAL)\n",
      "\t - vin (TEXT)\n",
      "\t - color (TEXT)\n",
      "\t - options (TEXT)\n",
      "\t - warranty_years (INTEGER)\n",
      "\n",
      "🗂️  Table: service_records\n",
      "\tColumns:\n",
      "\t - service_id (INTEGER)\n",
      "\t - vin (TEXT)\n",
      "\t - dealership_id (INTEGER)\n",
      "\t - service_date (TEXT)\n",
      "\t - mileage (INTEGER)\n",
      "\t - service_type (TEXT)\n",
      "\t - description (TEXT)\n",
      "\t - cost (REAL)\n",
      "\t - technician (TEXT)\n",
      "\t - parts_replaced (TEXT)\n",
      "\t - hours_spent (REAL)\n",
      "\t - customer_satisfaction (INTEGER)\n",
      "\n",
      "📊 Total tables: 5\n"
     ]
    }
   ],
   "source": [
    "# display database schema\n",
    "print(\"📋 Available Database Schema:\")\n",
    "print(\"=\" * 50)\n",
    "\n",
    "for table_name, columns in agent.schema.items():\n",
    "    print(f\"\\n🗂️  Table: {table_name}\")\n",
    "    print(\"\\tColumns:\")\n",
    "    for column in columns:\n",
    "        print(f\"\\t - {column['column_name']} ({column['data_type']})\")\n",
    "        \n",
    "print(f\"\\n📊 Total tables: {len(agent.schema)}\")"
   ]
  },
  {
   "cell_type": "code",
   "execution_count": 6,
   "id": "9c10247f",
   "metadata": {},
   "outputs": [],
   "source": [
    "# tickets to test\n",
    "JIRA_PROJECT_KEY=\"KAN\"\n",
    "\n",
    "tickets = [\n",
    "    {\n",
    "        'project': JIRA_PROJECT_KEY,\n",
    "        'summary': 'Car Models Analysis',\n",
    "        'description': 'How many unqiue car models we have per car category? Sort the results in descending order!',\n",
    "        'issuetype': 'Task',\n",
    "    },\n",
    "    {\n",
    "        'project': JIRA_PROJECT_KEY,\n",
    "        'summary': 'Dealership Performance by Region Analysis',\n",
    "        'description': 'Analyze the average dealership rating and sales capacity by region. Which regions have the highest performing dealerships? Sort the results by average rating in descending order.',\n",
    "        'issuetype': 'Task',\n",
    "    },\n",
    "    {\n",
    "        'project': JIRA_PROJECT_KEY,\n",
    "        'summary': 'Service Cost Analysis by Model and Service Type',\n",
    "        'description': 'Analyze the average service costs by model and service type. Identify which models have higher maintenance costs and which service types contribute most to overall service revenue.',\n",
    "        'issuetype': 'Task',\n",
    "    },\n",
    "    # irrelevant task that doesn't match the schema\n",
    "    {\n",
    "        \"id\": \"DA-101\",\n",
    "        \"summary\": \"Total Sales Overview\",\n",
    "        \"description\": \"What is the average user basket size?\"\n",
    "    },\n",
    "]"
   ]
  },
  {
   "cell_type": "markdown",
   "id": "7d17ee75",
   "metadata": {},
   "source": [
    "### SQL Generation"
   ]
  },
  {
   "cell_type": "code",
   "execution_count": 7,
   "id": "8d723a09",
   "metadata": {},
   "outputs": [
    {
     "name": "stderr",
     "output_type": "stream",
     "text": [
      "2025-07-02 14:03:25,355 - src.tools.sql_tool - INFO - Generating SQL query for task: How many unqiue car models we have per car category? Sort the results in descending order!\n",
      "2025-07-02 14:03:28,300 - httpx - INFO - HTTP Request: POST https://api.openai.com/v1/chat/completions \"HTTP/1.1 200 OK\"\n",
      "2025-07-02 14:03:31,292 - httpx - INFO - HTTP Request: POST https://api.openai.com/v1/chat/completions \"HTTP/1.1 200 OK\"\n",
      "2025-07-02 14:03:31,298 - src.tools.sql_tool - INFO - Successfully generated SQL query\n",
      "2025-07-02 14:03:31,300 - src.tools.sql_tool - INFO - Generating SQL query for task: Analyze the average dealership rating and sales capacity by region. Which regions have the highest performing dealerships? Sort the results by average rating in descending order.\n",
      "2025-07-02 14:03:34,448 - httpx - INFO - HTTP Request: POST https://api.openai.com/v1/chat/completions \"HTTP/1.1 200 OK\"\n",
      "2025-07-02 14:03:37,759 - httpx - INFO - HTTP Request: POST https://api.openai.com/v1/chat/completions \"HTTP/1.1 200 OK\"\n",
      "2025-07-02 14:03:37,761 - src.tools.sql_tool - INFO - Successfully generated SQL query\n",
      "2025-07-02 14:03:37,762 - src.tools.sql_tool - INFO - Generating SQL query for task: Analyze the average service costs by model and service type. Identify which models have higher maintenance costs and which service types contribute most to overall service revenue.\n",
      "2025-07-02 14:03:42,054 - httpx - INFO - HTTP Request: POST https://api.openai.com/v1/chat/completions \"HTTP/1.1 200 OK\"\n",
      "2025-07-02 14:03:45,426 - httpx - INFO - HTTP Request: POST https://api.openai.com/v1/chat/completions \"HTTP/1.1 200 OK\"\n",
      "2025-07-02 14:03:45,436 - src.tools.sql_tool - INFO - Successfully generated SQL query\n",
      "2025-07-02 14:03:45,437 - src.tools.sql_tool - INFO - Generating SQL query for task: What is the average user basket size?\n",
      "2025-07-02 14:03:48,767 - httpx - INFO - HTTP Request: POST https://api.openai.com/v1/chat/completions \"HTTP/1.1 200 OK\"\n",
      "2025-07-02 14:03:50,767 - httpx - INFO - HTTP Request: POST https://api.openai.com/v1/chat/completions \"HTTP/1.1 200 OK\"\n",
      "2025-07-02 14:03:50,769 - src.tools.sql_tool - INFO - Successfully generated SQL query\n"
     ]
    }
   ],
   "source": [
    "sql_queires = [\n",
    "    sql_tool.generate_query(task_description=ticket['description'], schema_dict=agent.schema)\n",
    "    for ticket in tickets\n",
    "]"
   ]
  },
  {
   "cell_type": "code",
   "execution_count": 8,
   "id": "ef03984b",
   "metadata": {},
   "outputs": [
    {
     "name": "stdout",
     "output_type": "stream",
     "text": [
      "ReturnedType ->  <class 'src.models.schemas.SQLQuery'>\n",
      "\n",
      "Generated SQL:\n",
      " SELECT segment, COUNT(DISTINCT model_id) AS unique_models\n",
      "FROM models\n",
      "GROUP BY segment\n",
      "ORDER BY unique_models DESC;\n",
      "\n",
      "Description:\n",
      " This query counts the number of unique model_ids in each segment from the 'models' table. It then groups the results by segment and orders them in descending order based on the count of unique model_ids.\n",
      "\n",
      "Used Tables:\n",
      " ['models']\n"
     ]
    }
   ],
   "source": [
    "sql_query = sql_queires[0]\n",
    "\n",
    "print('ReturnedType -> ', type(sql_query))\n",
    "print('\\nGenerated SQL:\\n', sql_query.query)\n",
    "print('\\nDescription:\\n', sql_query.description)\n",
    "print('\\nUsed Tables:\\n', sql_query.tables_used)"
   ]
  },
  {
   "cell_type": "code",
   "execution_count": null,
   "id": "b2eaf60d",
   "metadata": {},
   "outputs": [],
   "source": []
  }
 ],
 "metadata": {
  "kernelspec": {
   "display_name": "data-analyzer",
   "language": "python",
   "name": "python3"
  },
  "language_info": {
   "codemirror_mode": {
    "name": "ipython",
    "version": 3
   },
   "file_extension": ".py",
   "mimetype": "text/x-python",
   "name": "python",
   "nbconvert_exporter": "python",
   "pygments_lexer": "ipython3",
   "version": "3.11.2"
  }
 },
 "nbformat": 4,
 "nbformat_minor": 5
}
