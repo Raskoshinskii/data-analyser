{
 "cells": [
  {
   "cell_type": "markdown",
   "id": "826aab55",
   "metadata": {},
   "source": [
    "### SQL Validation\n",
    "Before moving to more complex queries, let's see how the validation system works. The validator ensures that generated SQL queries are safe, syntactically correct, and use valid schema elements."
   ]
  },
  {
   "cell_type": "code",
   "execution_count": 1,
   "id": "f5414db9",
   "metadata": {},
   "outputs": [
    {
     "name": "stdout",
     "output_type": "stream",
     "text": [
      "Project root: /home/vlad/dev/data-analyser\n",
      "Current working directory: /home/vlad/dev/data-analyser/notebooks\n"
     ]
    }
   ],
   "source": [
    "import logging\n",
    "import os\n",
    "import sys\n",
    "from pathlib import Path\n",
    "\n",
    "# Add the project root to Python path\n",
    "project_root = Path().absolute().parent\n",
    "sys.path.append(str(project_root))\n",
    "\n",
    "logging.basicConfig(\n",
    "    level=logging.INFO, format=\"%(asctime)s - %(name)s - %(levelname)s - %(message)s\"\n",
    ")\n",
    "logger = logging.getLogger(__name__)\n",
    "\n",
    "print(f\"Project root: {project_root}\")\n",
    "print(f\"Current working directory: {os.getcwd()}\")"
   ]
  },
  {
   "cell_type": "code",
   "execution_count": 4,
   "id": "942ad444",
   "metadata": {},
   "outputs": [],
   "source": [
    "from src.agent.agent import DataAnalysisAgent\n",
    "from src.models.schemas import SQLQuery, ValidationResult\n",
    "from src.tools.validator_tool import ValidatorTool"
   ]
  },
  {
   "cell_type": "markdown",
   "id": "a0bb1f07",
   "metadata": {},
   "source": [
    "### Initialize SQL Validation Tool"
   ]
  },
  {
   "cell_type": "code",
   "execution_count": 5,
   "id": "8c519077",
   "metadata": {},
   "outputs": [],
   "source": [
    "agent = DataAnalysisAgent(config_path=str(project_root / \"config\" / \"config.yaml\"))\n",
    "validator_tool = ValidatorTool(llm=agent.llm, schema_dict=agent.schema)"
   ]
  },
  {
   "cell_type": "code",
   "execution_count": 6,
   "id": "8e5685c5",
   "metadata": {},
   "outputs": [],
   "source": [
    "example_queries = [\n",
    "    \"\"\"\n",
    "    SELECT segment, COUNT(DISTINCT model_id) AS unique_models\n",
    "    FROM models\n",
    "    GROUP BY segment\n",
    "    ORDER BY unique_models DESC;\n",
    "    \"\"\",\n",
    "    \"\"\"\n",
    "    SELECT \n",
    "        region, \n",
    "        AVG(rating) AS average_rating, \n",
    "        AVG(sales_capacity) AS average_sales_capacity \n",
    "    FROM \n",
    "        dealerships \n",
    "    GROUP BY \n",
    "        region \n",
    "    ORDER BY \n",
    "        average_rating DESC;\n",
    "    \"\"\",\n",
    "    \"\"\"\n",
    "    SELECT \n",
    "        m.model_name, \n",
    "        sr.service_type, \n",
    "        AVG(sr.cost) AS average_service_cost, \n",
    "        SUM(sr.cost) AS total_service_revenue\n",
    "    FROM \n",
    "        service_records sr\n",
    "    JOIN \n",
    "        sales s ON sr.vin = s.vin\n",
    "    JOIN \n",
    "        models m ON s.model_id = m.model_id\n",
    "    GROUP BY \n",
    "        m.model_name, \n",
    "        sr.service_type\n",
    "    ORDER BY \n",
    "        total_service_revenue DESC;\n",
    "    \"\"\",\n",
    "    \"\"\"\n",
    "    SELECT AVG(basket_size) AS average_basket_size\n",
    "    FROM (\n",
    "    SELECT COUNT(sale_id) AS basket_size\n",
    "    FROM sales\n",
    "    GROUP BY customer_id\n",
    "    ) AS baskets;\n",
    "    \"\"\",\n",
    "]"
   ]
  },
  {
   "cell_type": "code",
   "execution_count": 7,
   "id": "4193d542",
   "metadata": {},
   "outputs": [
    {
     "name": "stdout",
     "output_type": "stream",
     "text": [
      "\n",
      "Query:\n",
      " \n",
      "    SELECT segment, COUNT(DISTINCT model_id) AS unique_models\n",
      "    FROM models\n",
      "    GROUP BY segment\n",
      "    ORDER BY unique_models DESC;\n",
      "    \n",
      "✅ Syntax check passed\n",
      "✅ Dangerous code check passed\n",
      "✅ Schema compatibility check passed\n",
      "\n",
      "Query:\n",
      " \n",
      "    SELECT \n",
      "        region, \n",
      "        AVG(rating) AS average_rating, \n",
      "        AVG(sales_capacity) AS average_sales_capacity \n",
      "    FROM \n",
      "        dealerships \n",
      "    GROUP BY \n",
      "        region \n",
      "    ORDER BY \n",
      "        average_rating DESC;\n",
      "    \n",
      "✅ Syntax check passed\n",
      "✅ Dangerous code check passed\n",
      "✅ Schema compatibility check passed\n",
      "\n",
      "Query:\n",
      " \n",
      "    SELECT \n",
      "        m.model_name, \n",
      "        sr.service_type, \n",
      "        AVG(sr.cost) AS average_service_cost, \n",
      "        SUM(sr.cost) AS total_service_revenue\n",
      "    FROM \n",
      "        service_records sr\n",
      "    JOIN \n",
      "        sales s ON sr.vin = s.vin\n",
      "    JOIN \n",
      "        models m ON s.model_id = m.model_id\n",
      "    GROUP BY \n",
      "        m.model_name, \n",
      "        sr.service_type\n",
      "    ORDER BY \n",
      "        total_service_revenue DESC;\n",
      "    \n",
      "✅ Syntax check passed\n",
      "✅ Dangerous code check passed\n",
      "✅ Schema compatibility check passed\n",
      "\n",
      "Query:\n",
      " \n",
      "    SELECT AVG(basket_size) AS average_basket_size\n",
      "    FROM (\n",
      "    SELECT COUNT(sale_id) AS basket_size\n",
      "    FROM sales\n",
      "    GROUP BY customer_id\n",
      "    ) AS baskets;\n",
      "    \n",
      "✅ Syntax check passed\n",
      "✅ Dangerous code check passed\n",
      "✅ Schema compatibility check passed\n"
     ]
    }
   ],
   "source": [
    "for sql_query in example_queries:\n",
    "    print(\"\\nQuery:\\n\", sql_query)\n",
    "\n",
    "    # validation steps\n",
    "    syntax_check = validator_tool.check_syntax(sql_query)\n",
    "    dangerous_code_check = validator_tool.check_dangerous_patterns(sql_query)\n",
    "    shema_check = validator_tool.check_schema_compatibility(sql_query)\n",
    "\n",
    "    if syntax_check[0]:\n",
    "        print(\"✅ Syntax check passed\")\n",
    "    else:\n",
    "        print(\"❌ Syntax check failed:\", syntax_check[1])\n",
    "\n",
    "    if dangerous_code_check[0]:\n",
    "        print(\"✅ Dangerous code check passed\")\n",
    "    else:\n",
    "        print(\"❌ Dangerous code check failed:\", dangerous_code_check[1])\n",
    "\n",
    "    if shema_check[0]:\n",
    "        print(\"✅ Schema compatibility check passed\")\n",
    "    else:\n",
    "        print(\"❌ Schema compatibility check failed:\", shema_check[1])"
   ]
  },
  {
   "cell_type": "code",
   "execution_count": 8,
   "id": "e18eef7a",
   "metadata": {},
   "outputs": [
    {
     "data": {
      "text/plain": [
       "(True, [], None)"
      ]
     },
     "execution_count": 8,
     "metadata": {},
     "output_type": "execute_result"
    }
   ],
   "source": [
    "i = 0\n",
    "sql_query = example_queries[i]\n",
    "\n",
    "errors = []\n",
    "warnings = []  # TODO: align in the future if it's needed\n",
    "suggestion = None\n",
    "\n",
    "# syntax validation\n",
    "syntax_valid, syntax_error = validator_tool.check_syntax(sql_query)\n",
    "if not syntax_valid:\n",
    "    errors.append(syntax_error)\n",
    "\n",
    "# dangerous patterns validation\n",
    "safe, safety_error = validator_tool.check_dangerous_patterns(sql_query)\n",
    "if not safe:\n",
    "    errors.append(safety_error)\n",
    "\n",
    "# schema compatibility validation\n",
    "schema_valid, schema_error = validator_tool.check_schema_compatibility(sql_query)\n",
    "if not schema_valid:\n",
    "    errors.append(schema_error)\n",
    "\n",
    "# final validation\n",
    "is_valid = len(errors) == 0\n",
    "\n",
    "is_valid, warnings, suggestion"
   ]
  },
  {
   "cell_type": "code",
   "execution_count": 9,
   "id": "1628584b",
   "metadata": {},
   "outputs": [
    {
     "data": {
      "text/plain": [
       "ValidationResult(is_valid=True, errors=[], warnings=[], suggestion=None)"
      ]
     },
     "execution_count": 9,
     "metadata": {},
     "output_type": "execute_result"
    }
   ],
   "source": [
    "ValidationResult(is_valid=is_valid, errors=errors, warnings=warnings, suggestion=None)"
   ]
  },
  {
   "cell_type": "code",
   "execution_count": 10,
   "id": "f3230e61",
   "metadata": {},
   "outputs": [
    {
     "data": {
      "text/plain": [
       "[ValidationResult(is_valid=True, errors=[], warnings=[], suggestion=None),\n",
       " ValidationResult(is_valid=True, errors=[], warnings=[], suggestion=None),\n",
       " ValidationResult(is_valid=True, errors=[], warnings=[], suggestion=None),\n",
       " ValidationResult(is_valid=True, errors=[], warnings=[], suggestion=None)]"
      ]
     },
     "execution_count": 10,
     "metadata": {},
     "output_type": "execute_result"
    }
   ],
   "source": [
    "# check all\n",
    "val_results = []\n",
    "\n",
    "for i in range(len(example_queries)):\n",
    "    sql_query = example_queries[i]\n",
    "    task_description = \"\"\n",
    "\n",
    "    val_results.append(\n",
    "        validator_tool.validate_sql(\n",
    "            sql_query=sql_query, task_description=task_description\n",
    "        )\n",
    "    )\n",
    "\n",
    "val_results"
   ]
  },
  {
   "cell_type": "markdown",
   "id": "73e406bd",
   "metadata": {},
   "source": [
    "### Incorrect SQL Testing"
   ]
  },
  {
   "cell_type": "code",
   "execution_count": 11,
   "id": "d6d6b0e9",
   "metadata": {},
   "outputs": [],
   "source": [
    "test_cases = [\n",
    "    {\n",
    "        \"name\": \"❌ Incompatible Schema\",\n",
    "        \"query\": \"SELECT region, SUM(sales_amount) as total_sales FROM sales_data GROUP BY region ORDER BY total_sales DESC\",\n",
    "        \"task\": \"Show total sales by region\",\n",
    "        \"expected\": \"VALID\",\n",
    "    },\n",
    "    {\n",
    "        \"name\": \"❌ Dangerous DROP Query\",\n",
    "        \"query\": \"DROP TABLE sales_data\",\n",
    "        \"task\": \"Remove sales data table\",\n",
    "        \"expected\": \"INVALID - Dangerous operation\",\n",
    "    },\n",
    "    {\n",
    "        \"name\": \"❌ Dangerous DELETE Query\",\n",
    "        \"query\": \"DELETE FROM sales_data WHERE region = 'North'\",\n",
    "        \"task\": \"Remove northern region data\",\n",
    "        \"expected\": \"INVALID - Dangerous operation\",\n",
    "    },\n",
    "    {\n",
    "        \"name\": \"❌ Invalid Table Reference\",\n",
    "        \"query\": \"SELECT * FROM nonexistent_table\",\n",
    "        \"task\": \"Query non-existent table\",\n",
    "        \"expected\": \"INVALID - Schema validation\",\n",
    "    },\n",
    "    {\n",
    "        \"name\": \"❌ Syntax Error Query\",\n",
    "        \"query\": \"SEL * FORM sales_data WHRE region = 'North'\",\n",
    "        \"task\": \"Query with multiple typos\",\n",
    "        \"expected\": \"INVALID - Syntax error\",\n",
    "    },\n",
    "]"
   ]
  },
  {
   "cell_type": "code",
   "execution_count": 12,
   "id": "384d21db",
   "metadata": {},
   "outputs": [
    {
     "name": "stderr",
     "output_type": "stream",
     "text": [
      "2025-07-02 14:10:22,320 - Parser - ERROR - Not supported query type: SEL * FORM\n"
     ]
    },
    {
     "data": {
      "text/plain": [
       "[ValidationResult(is_valid=False, errors=[\"Table 'sales_data' doesn't exist in the schema\"], warnings=[], suggestion=None),\n",
       " ValidationResult(is_valid=False, errors=['Invalid Syntax', 'Dangerous operation: DROP', \"Table 'sales_data' doesn't exist in the schema\"], warnings=[], suggestion=None),\n",
       " ValidationResult(is_valid=False, errors=['Invalid Syntax', 'Dangerous operation: DELETE', \"Table 'sales_data' doesn't exist in the schema\"], warnings=[], suggestion=None),\n",
       " ValidationResult(is_valid=False, errors=[\"Table 'nonexistent_table' doesn't exist in the schema\"], warnings=[], suggestion=None),\n",
       " ValidationResult(is_valid=False, errors=['Invalid Syntax', 'Invalid Syntax'], warnings=[], suggestion=None)]"
      ]
     },
     "execution_count": 12,
     "metadata": {},
     "output_type": "execute_result"
    }
   ],
   "source": [
    "val_results = []\n",
    "\n",
    "for i in range(len(test_cases)):\n",
    "    sql_query = test_cases[i][\"query\"]\n",
    "    task_description = test_cases[i][\"task\"]\n",
    "\n",
    "    val_results.append(\n",
    "        validator_tool.validate_sql(\n",
    "            sql_query=sql_query, task_description=task_description\n",
    "        )\n",
    "    )\n",
    "\n",
    "val_results"
   ]
  },
  {
   "cell_type": "code",
   "execution_count": null,
   "id": "4b1bd846",
   "metadata": {},
   "outputs": [],
   "source": []
  }
 ],
 "metadata": {
  "kernelspec": {
   "display_name": "data-analyzer",
   "language": "python",
   "name": "python3"
  },
  "language_info": {
   "codemirror_mode": {
    "name": "ipython",
    "version": 3
   },
   "file_extension": ".py",
   "mimetype": "text/x-python",
   "name": "python",
   "nbconvert_exporter": "python",
   "pygments_lexer": "ipython3",
   "version": "3.11.2"
  }
 },
 "nbformat": 4,
 "nbformat_minor": 5
}
