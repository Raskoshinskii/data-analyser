{
 "cells": [
  {
   "cell_type": "markdown",
   "id": "d8871301",
   "metadata": {},
   "source": [
    "## Setup and Imports"
   ]
  },
  {
   "cell_type": "code",
   "execution_count": 1,
   "id": "1692bd4f",
   "metadata": {},
   "outputs": [
    {
     "name": "stdout",
     "output_type": "stream",
     "text": [
      "Project root: /home/vlad/dev/data-analyser\n",
      "Current working directory: /home/vlad/dev/data-analyser/notebooks\n"
     ]
    }
   ],
   "source": [
    "import os\n",
    "import sys\n",
    "import logging\n",
    "from pathlib import Path\n",
    "\n",
    "# Add the project root to Python path\n",
    "project_root = Path().absolute().parent\n",
    "sys.path.append(str(project_root))\n",
    "\n",
    "logging.basicConfig(level=logging.INFO, format='%(asctime)s - %(name)s - %(levelname)s - %(message)s')\n",
    "logger = logging.getLogger(__name__)\n",
    "\n",
    "print(f\"Project root: {project_root}\")\n",
    "print(f\"Current working directory: {os.getcwd()}\")"
   ]
  },
  {
   "cell_type": "code",
   "execution_count": 2,
   "id": "581cf71a",
   "metadata": {},
   "outputs": [
    {
     "data": {
      "text/plain": [
       "True"
      ]
     },
     "execution_count": 2,
     "metadata": {},
     "output_type": "execute_result"
    }
   ],
   "source": [
    "from src.agent.agent import DataAnalysisAgent\n",
    "from src.models.schemas import JiraTicket, TicketStatus\n",
    "from src.tools.sql_tool import SQLTool\n",
    "from dotenv import load_dotenv\n",
    "\n",
    "from src.tools.validator_tool import ValidatorTool\n",
    "from src.models.schemas import SQLQuery, ValidationResult\n",
    "\n",
    "load_dotenv()"
   ]
  },
  {
   "cell_type": "markdown",
   "id": "9c03887e",
   "metadata": {},
   "source": [
    "## Initialize Agent and SQL Tool"
   ]
  },
  {
   "cell_type": "code",
   "execution_count": 3,
   "id": "97cd577e",
   "metadata": {},
   "outputs": [],
   "source": [
    "# agent\n",
    "agent = DataAnalysisAgent(config_path=str(project_root / \"config\" / \"config.yaml\"))\n",
    "\n",
    "# tools\n",
    "sql_tool = SQLTool(llm=agent.llm)\n",
    "validator_tool = ValidatorTool(llm=agent.llm, schema_dict=agent.schema)"
   ]
  },
  {
   "cell_type": "code",
   "execution_count": 4,
   "id": "6b7d198e",
   "metadata": {},
   "outputs": [
    {
     "name": "stdout",
     "output_type": "stream",
     "text": [
      "📋 Available Database Schema:\n",
      "==================================================\n",
      "\n",
      "🗂️  Table: models\n",
      "\tColumns:\n",
      "\t - model_id (INTEGER)\n",
      "\t - model_name (TEXT)\n",
      "\t - model_code (TEXT)\n",
      "\t - production_start_year (INTEGER)\n",
      "\t - production_end_year (INTEGER)\n",
      "\t - segment (TEXT)\n",
      "\t - base_price (REAL)\n",
      "\t - horsepower (INTEGER)\n",
      "\t - body_type (TEXT)\n",
      "\t - is_electric (INTEGER)\n",
      "\t - description (TEXT)\n",
      "\n",
      "🗂️  Table: dealerships\n",
      "\tColumns:\n",
      "\t - dealership_id (INTEGER)\n",
      "\t - name (TEXT)\n",
      "\t - address (TEXT)\n",
      "\t - city (TEXT)\n",
      "\t - country (TEXT)\n",
      "\t - region (TEXT)\n",
      "\t - opening_date (TEXT)\n",
      "\t - service_center (INTEGER)\n",
      "\t - sales_capacity (INTEGER)\n",
      "\t - rating (REAL)\n",
      "\t - manager_name (TEXT)\n",
      "\n",
      "🗂️  Table: customers\n",
      "\tColumns:\n",
      "\t - customer_id (INTEGER)\n",
      "\t - first_name (TEXT)\n",
      "\t - last_name (TEXT)\n",
      "\t - email (TEXT)\n",
      "\t - phone (TEXT)\n",
      "\t - address (TEXT)\n",
      "\t - city (TEXT)\n",
      "\t - country (TEXT)\n",
      "\t - date_of_birth (TEXT)\n",
      "\t - registration_date (TEXT)\n",
      "\t - loyalty_points (INTEGER)\n",
      "\t - preferred_dealership_id (INTEGER)\n",
      "\n",
      "🗂️  Table: sales\n",
      "\tColumns:\n",
      "\t - sale_id (INTEGER)\n",
      "\t - customer_id (INTEGER)\n",
      "\t - dealership_id (INTEGER)\n",
      "\t - model_id (INTEGER)\n",
      "\t - sale_date (TEXT)\n",
      "\t - price (REAL)\n",
      "\t - payment_method (TEXT)\n",
      "\t - currency (TEXT)\n",
      "\t - customization_cost (REAL)\n",
      "\t - vin (TEXT)\n",
      "\t - color (TEXT)\n",
      "\t - options (TEXT)\n",
      "\t - warranty_years (INTEGER)\n",
      "\n",
      "🗂️  Table: service_records\n",
      "\tColumns:\n",
      "\t - service_id (INTEGER)\n",
      "\t - vin (TEXT)\n",
      "\t - dealership_id (INTEGER)\n",
      "\t - service_date (TEXT)\n",
      "\t - mileage (INTEGER)\n",
      "\t - service_type (TEXT)\n",
      "\t - description (TEXT)\n",
      "\t - cost (REAL)\n",
      "\t - technician (TEXT)\n",
      "\t - parts_replaced (TEXT)\n",
      "\t - hours_spent (REAL)\n",
      "\t - customer_satisfaction (INTEGER)\n",
      "\n",
      "📊 Total tables: 5\n"
     ]
    }
   ],
   "source": [
    "# display database schema\n",
    "print(\"📋 Available Database Schema:\")\n",
    "print(\"=\" * 50)\n",
    "\n",
    "for table_name, columns in agent.schema.items():\n",
    "    print(f\"\\n🗂️  Table: {table_name}\")\n",
    "    print(\"\\tColumns:\")\n",
    "    for column in columns:\n",
    "        print(f\"\\t - {column['column_name']} ({column['data_type']})\")\n",
    "        \n",
    "print(f\"\\n📊 Total tables: {len(agent.schema)}\")"
   ]
  },
  {
   "cell_type": "code",
   "execution_count": 5,
   "id": "9c10247f",
   "metadata": {},
   "outputs": [],
   "source": [
    "# tickets to test\n",
    "JIRA_PROJECT_KEY=\"KAN\"\n",
    "\n",
    "tickets = [\n",
    "    {\n",
    "        'project': JIRA_PROJECT_KEY,\n",
    "        'summary': 'Car Models Analysis',\n",
    "        'description': 'How many unqiue car models we have per car category? Sort the results in descending order!',\n",
    "        'issuetype': 'Task',\n",
    "    },\n",
    "    {\n",
    "        'project': JIRA_PROJECT_KEY,\n",
    "        'summary': 'Dealership Performance by Region Analysis',\n",
    "        'description': 'Analyze the average dealership rating and sales capacity by region. Which regions have the highest performing dealerships? Sort the results by average rating in descending order.',\n",
    "        'issuetype': 'Task',\n",
    "    },\n",
    "    {\n",
    "        'project': JIRA_PROJECT_KEY,\n",
    "        'summary': 'Service Cost Analysis by Model and Service Type',\n",
    "        'description': 'Analyze the average service costs by model and service type. Identify which models have higher maintenance costs and which service types contribute most to overall service revenue.',\n",
    "        'issuetype': 'Task',\n",
    "    },\n",
    "    # irrelevant task that doesn't match the schema\n",
    "    {\n",
    "        \"id\": \"DA-101\",\n",
    "        \"summary\": \"Total Sales Overview\",\n",
    "        \"description\": \"What is the average user basket size?\"\n",
    "    },\n",
    "]"
   ]
  },
  {
   "cell_type": "markdown",
   "id": "7d17ee75",
   "metadata": {},
   "source": [
    "### SQL Generation"
   ]
  },
  {
   "cell_type": "code",
   "execution_count": 6,
   "id": "8d723a09",
   "metadata": {},
   "outputs": [
    {
     "name": "stderr",
     "output_type": "stream",
     "text": [
      "2025-07-02 11:43:25,431 - src.tools.sql_tool - INFO - Generating SQL query for task: How many unqiue car models we have per car category? Sort the results in descending order!\n",
      "2025-07-02 11:43:27,943 - httpx - INFO - HTTP Request: POST https://api.openai.com/v1/chat/completions \"HTTP/1.1 200 OK\"\n",
      "2025-07-02 11:43:30,859 - httpx - INFO - HTTP Request: POST https://api.openai.com/v1/chat/completions \"HTTP/1.1 200 OK\"\n",
      "2025-07-02 11:43:30,861 - src.tools.sql_tool - INFO - Successfully generated SQL query\n",
      "2025-07-02 11:43:30,862 - src.tools.sql_tool - INFO - Generating SQL query for task: Analyze the average dealership rating and sales capacity by region. Which regions have the highest performing dealerships? Sort the results by average rating in descending order.\n",
      "2025-07-02 11:43:33,714 - httpx - INFO - HTTP Request: POST https://api.openai.com/v1/chat/completions \"HTTP/1.1 200 OK\"\n",
      "2025-07-02 11:43:37,675 - httpx - INFO - HTTP Request: POST https://api.openai.com/v1/chat/completions \"HTTP/1.1 200 OK\"\n",
      "2025-07-02 11:43:37,679 - src.tools.sql_tool - INFO - Successfully generated SQL query\n",
      "2025-07-02 11:43:37,681 - src.tools.sql_tool - INFO - Generating SQL query for task: Analyze the average service costs by model and service type. Identify which models have higher maintenance costs and which service types contribute most to overall service revenue.\n",
      "2025-07-02 11:43:42,012 - httpx - INFO - HTTP Request: POST https://api.openai.com/v1/chat/completions \"HTTP/1.1 200 OK\"\n",
      "2025-07-02 11:43:45,854 - httpx - INFO - HTTP Request: POST https://api.openai.com/v1/chat/completions \"HTTP/1.1 200 OK\"\n",
      "2025-07-02 11:43:45,856 - src.tools.sql_tool - INFO - Successfully generated SQL query\n",
      "2025-07-02 11:43:45,858 - src.tools.sql_tool - INFO - Generating SQL query for task: What is the average user basket size?\n",
      "2025-07-02 11:43:48,257 - httpx - INFO - HTTP Request: POST https://api.openai.com/v1/chat/completions \"HTTP/1.1 200 OK\"\n",
      "2025-07-02 11:43:50,457 - httpx - INFO - HTTP Request: POST https://api.openai.com/v1/chat/completions \"HTTP/1.1 200 OK\"\n",
      "2025-07-02 11:43:50,460 - src.tools.sql_tool - INFO - Successfully generated SQL query\n"
     ]
    }
   ],
   "source": [
    "sql_queires = [\n",
    "    sql_tool.generate_query(task_description=ticket['description'], schema_dict=agent.schema)\n",
    "    for ticket in tickets\n",
    "]"
   ]
  },
  {
   "cell_type": "code",
   "execution_count": 7,
   "id": "ef03984b",
   "metadata": {},
   "outputs": [
    {
     "name": "stdout",
     "output_type": "stream",
     "text": [
      "ReturnedType ->  <class 'src.models.schemas.SQLQuery'>\n",
      "\n",
      "Generated SQL:\n",
      " SELECT segment, COUNT(DISTINCT model_id) AS unique_models\n",
      "FROM models\n",
      "GROUP BY segment\n",
      "ORDER BY unique_models DESC;\n",
      "\n",
      "Description:\n",
      " This query counts the number of unique 'model_id' for each 'segment' in the 'models' table. It then orders the results in descending order based on the count of unique 'model_id'.\n",
      "\n",
      "Used Tables:\n",
      " ['models']\n"
     ]
    }
   ],
   "source": [
    "sql_query = sql_queires[0]\n",
    "\n",
    "print('ReturnedType -> ', type(sql_query))\n",
    "print('\\nGenerated SQL:\\n', sql_query.query)\n",
    "print('\\nDescription:\\n', sql_query.description)\n",
    "print('\\nUsed Tables:\\n', sql_query.tables_used)"
   ]
  },
  {
   "cell_type": "markdown",
   "id": "ba851608",
   "metadata": {},
   "source": [
    "### SQL Validation\n",
    "Before moving to more complex queries, let's see how the validation system works. The validator ensures that generated SQL queries are safe, syntactically correct, and use valid schema elements."
   ]
  },
  {
   "cell_type": "code",
   "execution_count": 8,
   "id": "e7ef2044",
   "metadata": {},
   "outputs": [
    {
     "data": {
      "text/plain": [
       "[SQLQuery(query='SELECT segment, COUNT(DISTINCT model_id) AS unique_models\\nFROM models\\nGROUP BY segment\\nORDER BY unique_models DESC;', description=\"This query counts the number of unique 'model_id' for each 'segment' in the 'models' table. It then orders the results in descending order based on the count of unique 'model_id'.\", tables_used=['models']),\n",
       " SQLQuery(query='SELECT \\n    region, \\n    AVG(rating) AS average_rating, \\n    AVG(sales_capacity) AS average_sales_capacity \\nFROM \\n    dealerships \\nGROUP BY \\n    region \\nORDER BY \\n    average_rating DESC;', description=\"This query selects the 'region', the average 'rating', and the average 'sales_capacity' from the 'dealerships' table. It groups the results by 'region' and orders them in descending order based on the average 'rating'.\", tables_used=['dealerships']),\n",
       " SQLQuery(query='SELECT \\n    m.model_name, \\n    sr.service_type, \\n    AVG(sr.cost) AS average_service_cost, \\n    SUM(sr.cost) AS total_service_revenue\\nFROM \\n    service_records sr\\nJOIN \\n    sales s ON sr.vin = s.vin\\nJOIN \\n    models m ON s.model_id = m.model_id\\nGROUP BY \\n    m.model_name, \\n    sr.service_type\\nORDER BY \\n    total_service_revenue DESC;', description='This query retrieves the model name, service type, average service cost, and total service revenue for each combination of model name and service type. It does this by joining the service records, sales, and models tables on their respective keys. The results are grouped by model name and service type, and ordered in descending order by total service revenue.', tables_used=['service_records', 'sales', 'models']),\n",
       " SQLQuery(query='SELECT AVG(basket_size) AS average_basket_size\\nFROM (\\n  SELECT COUNT(sale_id) AS basket_size\\n  FROM sales\\n  GROUP BY customer_id\\n) AS baskets;', description='This query calculates the average size of a basket (i.e., the average number of sales per customer) in the sales table.', tables_used=['sales'])]"
      ]
     },
     "execution_count": 8,
     "metadata": {},
     "output_type": "execute_result"
    }
   ],
   "source": [
    "sql_queires"
   ]
  },
  {
   "cell_type": "code",
   "execution_count": 6,
   "id": "80287cdb",
   "metadata": {},
   "outputs": [],
   "source": [
    "queries = [\n",
    "\"\"\"\n",
    "SELECT segment, COUNT(DISTINCT model_id) AS unique_models\n",
    "FROM models\n",
    "GROUP BY segment\n",
    "ORDER BY unique_models DESC;\n",
    "\"\"\",\n",
    "\n",
    "\"\"\"\n",
    "SELECT \n",
    "    region, \n",
    "    AVG(rating) AS average_rating, \n",
    "    AVG(sales_capacity) AS average_sales_capacity \n",
    "FROM \n",
    "    dealerships \n",
    "GROUP BY \n",
    "    region \n",
    "ORDER BY \n",
    "    average_rating DESC;\n",
    "\"\"\",\n",
    "\n",
    "\n",
    "\"\"\"\n",
    "SELECT \n",
    "    m.model_name, \n",
    "    sr.service_type, \n",
    "    AVG(sr.cost) AS average_service_cost, \n",
    "    SUM(sr.cost) AS total_service_revenue\n",
    "FROM \n",
    "    service_records sr\n",
    "JOIN \n",
    "    sales s ON sr.vin = s.vin\n",
    "JOIN \n",
    "    models m ON s.model_id = m.model_id\n",
    "GROUP BY \n",
    "    m.model_name, \n",
    "    sr.service_type\n",
    "ORDER BY \n",
    "    total_service_revenue DESC;\n",
    "\"\"\",\n",
    "\n",
    "\"\"\"\n",
    "SELECT AVG(basket_size) AS average_basket_size\n",
    "FROM (\n",
    "  SELECT COUNT(sale_id) AS basket_size\n",
    "  FROM sales\n",
    "  GROUP BY customer_id\n",
    ") AS baskets;\n",
    "\"\"\"\n",
    "]"
   ]
  },
  {
   "cell_type": "code",
   "execution_count": 7,
   "id": "2e27e161",
   "metadata": {},
   "outputs": [
    {
     "name": "stdout",
     "output_type": "stream",
     "text": [
      "\n",
      "Query:\n",
      " \n",
      "SELECT segment, COUNT(DISTINCT model_id) AS unique_models\n",
      "FROM models\n",
      "GROUP BY segment\n",
      "ORDER BY unique_models DESC;\n",
      "\n",
      "✅ Syntax check passed\n",
      "✅ Dangerous code check passed\n",
      "✅ Schema compatibility check passed\n",
      "\n",
      "Query:\n",
      " \n",
      "SELECT \n",
      "    region, \n",
      "    AVG(rating) AS average_rating, \n",
      "    AVG(sales_capacity) AS average_sales_capacity \n",
      "FROM \n",
      "    dealerships \n",
      "GROUP BY \n",
      "    region \n",
      "ORDER BY \n",
      "    average_rating DESC;\n",
      "\n",
      "✅ Syntax check passed\n",
      "✅ Dangerous code check passed\n",
      "✅ Schema compatibility check passed\n",
      "\n",
      "Query:\n",
      " \n",
      "SELECT \n",
      "    m.model_name, \n",
      "    sr.service_type, \n",
      "    AVG(sr.cost) AS average_service_cost, \n",
      "    SUM(sr.cost) AS total_service_revenue\n",
      "FROM \n",
      "    service_records sr\n",
      "JOIN \n",
      "    sales s ON sr.vin = s.vin\n",
      "JOIN \n",
      "    models m ON s.model_id = m.model_id\n",
      "GROUP BY \n",
      "    m.model_name, \n",
      "    sr.service_type\n",
      "ORDER BY \n",
      "    total_service_revenue DESC;\n",
      "\n",
      "✅ Syntax check passed\n",
      "✅ Dangerous code check passed\n",
      "✅ Schema compatibility check passed\n",
      "\n",
      "Query:\n",
      " \n",
      "SELECT AVG(basket_size) AS average_basket_size\n",
      "FROM (\n",
      "  SELECT COUNT(sale_id) AS basket_size\n",
      "  FROM sales\n",
      "  GROUP BY customer_id\n",
      ") AS baskets;\n",
      "\n",
      "✅ Syntax check passed\n",
      "✅ Dangerous code check passed\n",
      "✅ Schema compatibility check passed\n"
     ]
    }
   ],
   "source": [
    "for sql_query in queries:\n",
    "    print('\\nQuery:\\n', sql_query)\n",
    "\n",
    "    # validation steps\n",
    "    syntax_check = validator_tool.check_syntax(sql_query)\n",
    "    dangerous_code_check = validator_tool.check_dangerous_patterns(sql_query)\n",
    "    shema_check = validator_tool.check_schema_compatibility(sql_query)\n",
    "\n",
    "    if syntax_check[0]:\n",
    "        print(\"✅ Syntax check passed\")\n",
    "    else:\n",
    "        print(\"❌ Syntax check failed:\", syntax_check[1])\n",
    "\n",
    "    if dangerous_code_check[0]:\n",
    "        print(\"✅ Dangerous code check passed\")\n",
    "    else:\n",
    "        print(\"❌ Dangerous code check failed:\", dangerous_code_check[1])\n",
    "\n",
    "    if shema_check[0]:\n",
    "        print(\"✅ Schema compatibility check passed\")\n",
    "    else:\n",
    "        print(\"❌ Schema compatibility check failed:\", shema_check[1])\n"
   ]
  },
  {
   "cell_type": "code",
   "execution_count": 20,
   "id": "ebbee327",
   "metadata": {},
   "outputs": [
    {
     "data": {
      "text/plain": [
       "(True, [], None)"
      ]
     },
     "execution_count": 20,
     "metadata": {},
     "output_type": "execute_result"
    }
   ],
   "source": [
    "sql_query = queries[3]\n",
    "\n",
    "errors = []\n",
    "warnings = [] # TODO: align in the future if it's needed\n",
    "suggestion = None\n",
    "\n",
    "# syntax validation\n",
    "syntax_valid, syntax_error = validator_tool.check_syntax(sql_query)\n",
    "if not syntax_valid:\n",
    "    errors.append(syntax_error)\n",
    "    \n",
    "# dangerous patterns validation\n",
    "safe, safety_error = validator_tool.check_dangerous_patterns(sql_query)\n",
    "if not safe:\n",
    "    errors.append(safety_error)\n",
    "    \n",
    "# schema compatibility validation\n",
    "schema_valid, schema_error = validator_tool.check_schema_compatibility(sql_query)\n",
    "if not schema_valid:\n",
    "    errors.append(schema_error)\n",
    "\n",
    "# final validation\n",
    "is_valid = len(errors) == 0\n",
    "\n",
    "is_valid, warnings, suggestion"
   ]
  },
  {
   "cell_type": "code",
   "execution_count": 21,
   "id": "743757e7",
   "metadata": {},
   "outputs": [
    {
     "data": {
      "text/plain": [
       "ValidationResult(is_valid=True, errors=[], warnings=[], suggestion=None)"
      ]
     },
     "execution_count": 21,
     "metadata": {},
     "output_type": "execute_result"
    }
   ],
   "source": [
    "ValidationResult(\n",
    "    is_valid=is_valid,\n",
    "    errors=errors,\n",
    "    warnings=warnings,\n",
    "    suggestion=None\n",
    ")"
   ]
  },
  {
   "cell_type": "code",
   "execution_count": null,
   "id": "4b739575",
   "metadata": {},
   "outputs": [],
   "source": [
    "# complete check\n",
    "val_results = []\n",
    "\n",
    "for i in range(len(queries)):\n",
    "    sql_query = queries[i]\n",
    "    task_description = tickets[i]['description']\n",
    "\n",
    "    val_results.append(\n",
    "        validator_tool.validate_sql(sql_query=sql_query, task_description=task_description)\n",
    "    )\n",
    "\n",
    "val_results"
   ]
  },
  {
   "cell_type": "markdown",
   "id": "5d4272e2",
   "metadata": {},
   "source": [
    "### Validation Testing"
   ]
  },
  {
   "cell_type": "code",
   "execution_count": 26,
   "id": "45b14a24",
   "metadata": {},
   "outputs": [],
   "source": [
    "test_cases = [\n",
    "    {\n",
    "        \"name\": \"❌ Incompatible Schema\",\n",
    "        \"query\": \"SELECT region, SUM(sales_amount) as total_sales FROM sales_data GROUP BY region ORDER BY total_sales DESC\",\n",
    "        \"task\": \"Show total sales by region\",\n",
    "        \"expected\": \"VALID\"\n",
    "    },\n",
    "    {\n",
    "        \"name\": \"❌ Dangerous DROP Query\",\n",
    "        \"query\": \"DROP TABLE sales_data\",\n",
    "        \"task\": \"Remove sales data table\",\n",
    "        \"expected\": \"INVALID - Dangerous operation\"\n",
    "    },\n",
    "    {\n",
    "        \"name\": \"❌ Dangerous DELETE Query\", \n",
    "        \"query\": \"DELETE FROM sales_data WHERE region = 'North'\",\n",
    "        \"task\": \"Remove northern region data\",\n",
    "        \"expected\": \"INVALID - Dangerous operation\"\n",
    "    },\n",
    "    {\n",
    "        \"name\": \"❌ Invalid Table Reference\",\n",
    "        \"query\": \"SELECT * FROM nonexistent_table\",\n",
    "        \"task\": \"Query non-existent table\",\n",
    "        \"expected\": \"INVALID - Schema validation\"\n",
    "    },\n",
    "    {\n",
    "        \"name\": \"❌ Syntax Error Query\",\n",
    "        \"query\": \"SEL * FORM sales_data WHRE region = 'North'\",\n",
    "        \"task\": \"Query with multiple typos\",\n",
    "        \"expected\": \"INVALID - Syntax error\"\n",
    "    },\n",
    "]"
   ]
  },
  {
   "cell_type": "code",
   "execution_count": 27,
   "id": "e0790dae",
   "metadata": {},
   "outputs": [
    {
     "name": "stderr",
     "output_type": "stream",
     "text": [
      "2025-07-02 12:08:44,186 - Parser - ERROR - Not supported query type: SEL * FORM\n"
     ]
    },
    {
     "data": {
      "text/plain": [
       "[ValidationResult(is_valid=False, errors=[\"Table 'sales_data' doesn't exist in the schema\"], warnings=[], suggestion=None),\n",
       " ValidationResult(is_valid=False, errors=['Invalid Syntax', 'Dangerous operation: DROP', \"Table 'sales_data' doesn't exist in the schema\"], warnings=[], suggestion=None),\n",
       " ValidationResult(is_valid=False, errors=['Invalid Syntax', 'Dangerous operation: DELETE', \"Table 'sales_data' doesn't exist in the schema\"], warnings=[], suggestion=None),\n",
       " ValidationResult(is_valid=False, errors=[\"Table 'nonexistent_table' doesn't exist in the schema\"], warnings=[], suggestion=None),\n",
       " ValidationResult(is_valid=False, errors=['Invalid Syntax', 'Invalid Syntax'], warnings=[], suggestion=None)]"
      ]
     },
     "execution_count": 27,
     "metadata": {},
     "output_type": "execute_result"
    }
   ],
   "source": [
    "val_results = []\n",
    "\n",
    "for i in range(len(test_cases)):\n",
    "    sql_query = test_cases[i]['query']\n",
    "    task_description = test_cases[i]['task']\n",
    "\n",
    "    val_results.append(\n",
    "        validator_tool.validate_sql(sql_query=sql_query, task_description=task_description)\n",
    "    )\n",
    "\n",
    "val_results"
   ]
  },
  {
   "cell_type": "code",
   "execution_count": null,
   "id": "5392731f",
   "metadata": {},
   "outputs": [],
   "source": []
  },
  {
   "cell_type": "code",
   "execution_count": null,
   "id": "bd728f26",
   "metadata": {},
   "outputs": [],
   "source": []
  },
  {
   "cell_type": "code",
   "execution_count": null,
   "id": "859a57f7",
   "metadata": {},
   "outputs": [],
   "source": []
  }
 ],
 "metadata": {
  "kernelspec": {
   "display_name": "data-analyzer",
   "language": "python",
   "name": "python3"
  },
  "language_info": {
   "codemirror_mode": {
    "name": "ipython",
    "version": 3
   },
   "file_extension": ".py",
   "mimetype": "text/x-python",
   "name": "python",
   "nbconvert_exporter": "python",
   "pygments_lexer": "ipython3",
   "version": "3.11.2"
  }
 },
 "nbformat": 4,
 "nbformat_minor": 5
}
