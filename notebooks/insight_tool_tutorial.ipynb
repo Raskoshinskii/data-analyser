{
 "cells": [
  {
   "cell_type": "markdown",
   "id": "f26815c0",
   "metadata": {},
   "source": [
    "### Insight Tool "
   ]
  },
  {
   "cell_type": "code",
   "execution_count": 1,
   "id": "2d13bd11",
   "metadata": {},
   "outputs": [
    {
     "name": "stdout",
     "output_type": "stream",
     "text": [
      "Project root: /home/vlad/dev/data-analyser\n",
      "Current working directory: /home/vlad/dev/data-analyser/notebooks\n"
     ]
    }
   ],
   "source": [
    "import logging\n",
    "import os\n",
    "import sys\n",
    "from pathlib import Path\n",
    "\n",
    "# Add the project root to Python path\n",
    "project_root = Path().absolute().parent\n",
    "sys.path.append(str(project_root))\n",
    "\n",
    "logging.basicConfig(\n",
    "    level=logging.INFO, format=\"%(asctime)s - %(name)s - %(levelname)s - %(message)s\"\n",
    ")\n",
    "logger = logging.getLogger(__name__)\n",
    "\n",
    "print(f\"Project root: {project_root}\")\n",
    "print(f\"Current working directory: {os.getcwd()}\")"
   ]
  },
  {
   "cell_type": "code",
   "execution_count": 2,
   "id": "f7fa6aa7",
   "metadata": {},
   "outputs": [
    {
     "data": {
      "text/plain": [
       "True"
      ]
     },
     "execution_count": 2,
     "metadata": {},
     "output_type": "execute_result"
    }
   ],
   "source": [
    "from dotenv import load_dotenv\n",
    "\n",
    "from src.agent.agent import DataAnalysisAgent\n",
    "from src.clients.db_client import DatabaseClient\n",
    "from src.tools.insight_tool import InsightTool\n",
    "from src.tools.sql_tool import SQLTool\n",
    "from src.tools.validator_tool import ValidatorTool\n",
    "\n",
    "load_dotenv()"
   ]
  },
  {
   "cell_type": "markdown",
   "id": "69200a81",
   "metadata": {},
   "source": [
    "## Initialize Agent and SQL Tool"
   ]
  },
  {
   "cell_type": "code",
   "execution_count": 3,
   "id": "59d74473",
   "metadata": {},
   "outputs": [],
   "source": [
    "# agent\n",
    "agent = DataAnalysisAgent(config_path=str(project_root / \"config\" / \"config.yaml\"))\n",
    "\n",
    "# clients\n",
    "DB_PATH = os.path.expanduser(\"../data/porsche_analytics.db\")\n",
    "sqlite_connection_string = f\"sqlite:///{DB_PATH}\"\n",
    "sqlite_client = DatabaseClient(sqlite_connection_string)\n",
    "\n",
    "# tools\n",
    "sql_tool = SQLTool(llm=agent.llm)\n",
    "sql_insight_tool = InsightTool(llm=agent.llm)\n",
    "sql_validation_tool = ValidatorTool(llm=agent.llm, schema_dict=agent.schema)"
   ]
  },
  {
   "cell_type": "code",
   "execution_count": 4,
   "id": "fcb142b1",
   "metadata": {},
   "outputs": [],
   "source": [
    "# tickets to test\n",
    "JIRA_PROJECT_KEY = \"KAN\"\n",
    "\n",
    "tickets = [\n",
    "    {\n",
    "        \"project\": JIRA_PROJECT_KEY,\n",
    "        \"summary\": \"Car Models Analysis\",\n",
    "        \"description\": \"How many unqiue car models we have per car category? Sort the results in descending order!\",\n",
    "        \"issuetype\": \"Task\",\n",
    "    },\n",
    "    {\n",
    "        \"project\": JIRA_PROJECT_KEY,\n",
    "        \"summary\": \"Dealership Performance by Region Analysis\",\n",
    "        \"description\": \"Analyze the average dealership rating and sales capacity by region. Which regions have the highest performing dealerships? Sort the results by average rating in descending order.\",\n",
    "        \"issuetype\": \"Task\",\n",
    "    },\n",
    "    {\n",
    "        \"project\": JIRA_PROJECT_KEY,\n",
    "        \"summary\": \"Service Cost Analysis by Model and Service Type\",\n",
    "        \"description\": \"Analyze the average service costs by model and service type. Identify which models have higher maintenance costs and which service types contribute most to overall service revenue.\",\n",
    "        \"issuetype\": \"Task\",\n",
    "    },\n",
    "    # irrelevant task that doesn't match the schema\n",
    "    {\n",
    "        \"id\": \"DA-101\",\n",
    "        \"summary\": \"Total Sales Overview\",\n",
    "        \"description\": \"What is the average user basket size?\",\n",
    "    },\n",
    "]"
   ]
  },
  {
   "cell_type": "code",
   "execution_count": 13,
   "id": "bf8f65c8",
   "metadata": {},
   "outputs": [
    {
     "name": "stderr",
     "output_type": "stream",
     "text": [
      "2025-07-02 15:12:39,366 - src.tools.sql_tool - INFO - Generating SQL query for task: Analyze the average service costs by model and service type. Identify which models have higher maintenance costs and which service types contribute most to overall service revenue.\n",
      "2025-07-02 15:12:44,659 - httpx - INFO - HTTP Request: POST https://api.openai.com/v1/chat/completions \"HTTP/1.1 200 OK\"\n"
     ]
    },
    {
     "name": "stdout",
     "output_type": "stream",
     "text": [
      "\n",
      "Generated SQL query:\n",
      " SELECT \n",
      "    models.model_name, \n",
      "    service_records.service_type, \n",
      "    AVG(service_records.cost) AS average_service_cost\n",
      "FROM \n",
      "    service_records\n",
      "JOIN \n",
      "    sales ON service_records.vin = sales.vin\n",
      "JOIN \n",
      "    models ON sales.model_id = models.model_id\n",
      "GROUP BY \n",
      "    models.model_name, \n",
      "    service_records.service_type\n",
      "ORDER BY \n",
      "    average_service_cost DESC;\n"
     ]
    }
   ],
   "source": [
    "# select ticket (testing)\n",
    "ticket = tickets[2]\n",
    "\n",
    "# generate SQL query\n",
    "sql_from_llm = sql_tool.generate_query(\n",
    "    task_description=ticket[\"description\"], schema_dict=agent.schema\n",
    ")\n",
    "\n",
    "print(\"\\nGenerated SQL query:\\n\", sql_from_llm)"
   ]
  },
  {
   "cell_type": "code",
   "execution_count": 14,
   "id": "ab5db39e",
   "metadata": {},
   "outputs": [
    {
     "data": {
      "text/plain": [
       "ValidationResult(is_valid=True, errors=[], warnings=[], suggestion=None)"
      ]
     },
     "execution_count": 14,
     "metadata": {},
     "output_type": "execute_result"
    }
   ],
   "source": [
    "# validate SQL query\n",
    "validation_result = sql_validation_tool.validate_sql(sql_query=sql_from_llm)\n",
    "validation_result"
   ]
  },
  {
   "cell_type": "code",
   "execution_count": 15,
   "id": "aecf18af",
   "metadata": {},
   "outputs": [
    {
     "name": "stderr",
     "output_type": "stream",
     "text": [
      "2025-07-02 15:12:47,877 - src.clients.db_client - INFO - Query executed successfully. Returned 10 rows.\n"
     ]
    },
    {
     "data": {
      "text/plain": [
       "QueryResult(data=[{'model_name': '718 Boxster', 'service_type': 'Performance Upgrade', 'average_service_cost': 3800.0}, {'model_name': 'Taycan Cross Turismo', 'service_type': 'Tire Replacement', 'average_service_cost': 2800.0}, {'model_name': 'Cayenne', 'service_type': 'Regular Maintenance', 'average_service_cost': 1450.0}, {'model_name': 'Cayenne Coupe', 'service_type': 'Regular Maintenance', 'average_service_cost': 1350.0}, {'model_name': 'Macan', 'service_type': 'Interior Repair', 'average_service_cost': 1200.0}, {'model_name': 'Taycan', 'service_type': 'Brake Service', 'average_service_cost': 1200.0}, {'model_name': '911 GT3', 'service_type': 'Regular Maintenance', 'average_service_cost': 1100.0}, {'model_name': '911 Turbo S', 'service_type': 'Regular Maintenance', 'average_service_cost': 950.0}, {'model_name': 'Panamera', 'service_type': 'Electrical System', 'average_service_cost': 950.0}, {'model_name': '911 Carrera', 'service_type': 'Regular Maintenance', 'average_service_cost': 850.0}], row_count=10, column_names=['model_name', 'service_type', 'average_service_cost'], execution_time_ms=4.761695861816406)"
      ]
     },
     "execution_count": 15,
     "metadata": {},
     "output_type": "execute_result"
    }
   ],
   "source": [
    "# execute SQL query\n",
    "query_result = sqlite_client.execute_query(sql_from_llm)\n",
    "query_result"
   ]
  },
  {
   "cell_type": "code",
   "execution_count": 16,
   "id": "862187c6",
   "metadata": {},
   "outputs": [
    {
     "name": "stderr",
     "output_type": "stream",
     "text": [
      "2025-07-02 15:12:49,933 - src.tools.insight_tool - INFO - Generating insights for task: Analyze the average service costs by model and service type. Identify which models have higher maintenance costs and which service types contribute most to overall service revenue.\n",
      "2025-07-02 15:13:00,405 - httpx - INFO - HTTP Request: POST https://api.openai.com/v1/chat/completions \"HTTP/1.1 200 OK\"\n"
     ]
    },
    {
     "name": "stdout",
     "output_type": "stream",
     "text": [
      "Insight from LLM:\n",
      " Summary: The model with the highest average service cost is the '718 Boxster' for 'Performance Upgrade' at $3800. 'Regular Maintenance' is the most common service type across different models. \n",
      "\n",
      "Key Points:\n",
      "- The '718 Boxster' model incurs the highest average service cost, particularly for 'Performance Upgrade' services.\n",
      "- 'Regular Maintenance' is the most common service type, required by models such as 'Cayenne', 'Cayenne Coupe', '911 GT3', '911 Turbo S', and '911 Carrera'.\n",
      "- The 'Taycan Cross Turismo' model has a high average service cost for 'Tire Replacement' at $2800.\n",
      "\n",
      "Recommendations:\n",
      "- Consider offering promotional discounts or service packages for 'Performance Upgrade' services for the '718 Boxster' model to attract more customers.\n",
      "- As 'Regular Maintenance' is a common service, consider creating a loyalty program or offering discounts for regular maintenance services to retain customers.\n",
      "- For the 'Taycan Cross Turismo' model, consider partnering with tire manufacturers for discounts or promotions on 'Tire Replacement' services.\n"
     ]
    }
   ],
   "source": [
    "# insight generation\n",
    "insight_from_llm = sql_insight_tool.generate_insights(\n",
    "    task_description=ticket[\"description\"],\n",
    "    query_result=query_result,\n",
    ")\n",
    "\n",
    "print(\"Insight from LLM:\\n\", insight_from_llm)"
   ]
  },
  {
   "cell_type": "code",
   "execution_count": null,
   "id": "ee17663f",
   "metadata": {},
   "outputs": [],
   "source": []
  },
  {
   "cell_type": "code",
   "execution_count": null,
   "id": "cfe54e9d",
   "metadata": {},
   "outputs": [],
   "source": []
  },
  {
   "cell_type": "code",
   "execution_count": null,
   "id": "b5c3de07",
   "metadata": {},
   "outputs": [],
   "source": []
  },
  {
   "cell_type": "code",
   "execution_count": null,
   "id": "38409894",
   "metadata": {},
   "outputs": [],
   "source": []
  },
  {
   "cell_type": "markdown",
   "id": "7b86cb4e",
   "metadata": {},
   "source": [
    "### Debugging"
   ]
  },
  {
   "cell_type": "code",
   "execution_count": 31,
   "id": "19a48695",
   "metadata": {},
   "outputs": [],
   "source": [
    "result_summary = sql_insight_tool.format_result_summary(query_result)\n",
    "\n",
    "prompt_value = sql_insight_tool.prompt.format(\n",
    "    task_description=ticket[\"description\"], result_summary=result_summary\n",
    ")"
   ]
  },
  {
   "cell_type": "code",
   "execution_count": 35,
   "id": "8fc0e7c0",
   "metadata": {},
   "outputs": [
    {
     "name": "stderr",
     "output_type": "stream",
     "text": [
      "2025-07-02 14:58:58,390 - httpx - INFO - HTTP Request: POST https://api.openai.com/v1/chat/completions \"HTTP/1.1 200 OK\"\n"
     ]
    }
   ],
   "source": [
    "insight_from_llm_raw = sql_insight_tool.llm.invoke(prompt_value)"
   ]
  },
  {
   "cell_type": "code",
   "execution_count": 38,
   "id": "f9e60dbb",
   "metadata": {},
   "outputs": [
    {
     "name": "stdout",
     "output_type": "stream",
     "text": [
      "Summary: The data analysis reveals the number of unique car models per car category. The 'Sports Car' category has the highest number of unique models with 5, followed by 'SUV' with 3. All other categories have only one unique model each.\n",
      "\n",
      "Key Points:\n",
      "- The 'Sports Car' category has the most diverse range of unique models.\n",
      "- The 'SUV' category is the second most diverse with 3 unique models.\n",
      "- The 'Wagon', 'Supercar', 'Sedan', 'Luxury', and 'Hypercar' categories have the least diversity with only one unique model each.\n",
      "\n",
      "Recommendations:\n",
      "- Consider expanding the range of models in the 'Wagon', 'Supercar', 'Sedan', 'Luxury', and 'Hypercar' categories to increase diversity and potentially attract a wider customer base.\n",
      "- Investigate why the 'Sports Car' and 'SUV' categories have more unique models. This could provide insights into consumer preferences and inform future product development.\n",
      "- Conduct further analysis to understand if the number of unique models in each category is meeting market demand or if there are opportunities for growth.\n"
     ]
    }
   ],
   "source": [
    "print(insight_from_llm_raw.content)"
   ]
  },
  {
   "cell_type": "code",
   "execution_count": null,
   "id": "526349c8",
   "metadata": {},
   "outputs": [],
   "source": []
  },
  {
   "cell_type": "code",
   "execution_count": null,
   "id": "8c35c322",
   "metadata": {},
   "outputs": [],
   "source": []
  }
 ],
 "metadata": {
  "kernelspec": {
   "display_name": "data-analyzer",
   "language": "python",
   "name": "python3"
  },
  "language_info": {
   "codemirror_mode": {
    "name": "ipython",
    "version": 3
   },
   "file_extension": ".py",
   "mimetype": "text/x-python",
   "name": "python",
   "nbconvert_exporter": "python",
   "pygments_lexer": "ipython3",
   "version": "3.11.2"
  }
 },
 "nbformat": 4,
 "nbformat_minor": 5
}
