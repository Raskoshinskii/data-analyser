{
 "cells": [
  {
   "cell_type": "code",
   "execution_count": 1,
   "id": "6ed88e2a",
   "metadata": {},
   "outputs": [
    {
     "name": "stdout",
     "output_type": "stream",
     "text": [
      "Project root: /home/vlad/dev/data-analyser\n",
      "Current working directory: /home/vlad/dev/data-analyser/notebooks\n"
     ]
    }
   ],
   "source": [
    "import os\n",
    "import sys\n",
    "import logging\n",
    "from pathlib import Path\n",
    "\n",
    "# Add the project root to Python path\n",
    "project_root = Path().absolute().parent\n",
    "sys.path.append(str(project_root))\n",
    "\n",
    "logging.basicConfig(level=logging.INFO, format='%(asctime)s - %(name)s - %(levelname)s - %(message)s')\n",
    "logger = logging.getLogger(__name__)\n",
    "\n",
    "print(f\"Project root: {project_root}\")\n",
    "print(f\"Current working directory: {os.getcwd()}\")"
   ]
  },
  {
   "cell_type": "code",
   "execution_count": 2,
   "id": "5d6bf468",
   "metadata": {},
   "outputs": [
    {
     "data": {
      "text/plain": [
       "True"
      ]
     },
     "execution_count": 2,
     "metadata": {},
     "output_type": "execute_result"
    }
   ],
   "source": [
    "from src.agent.agent import DataAnalysisAgent\n",
    "from dotenv import load_dotenv\n",
    "from src.clients.db_client import DatabaseClient\n",
    "from src.clients.jira_client import JiraClient\n",
    "\n",
    "load_dotenv()"
   ]
  },
  {
   "cell_type": "code",
   "execution_count": 3,
   "id": "deb181bf",
   "metadata": {},
   "outputs": [],
   "source": [
    "from pydantic import BaseModel\n",
    "from typing import Optional\n",
    "\n",
    "from src.models.schemas import ValidationResult, QueryResult, BusinessInsight\n",
    "\n",
    "class JiraTicket(BaseModel):\n",
    "    ticket_id: str\n",
    "    summary: str\n",
    "    description: str\n",
    "    status: str\n",
    "    assignee: Optional[str] = None\n",
    "\n",
    "\n",
    "class AgentState(BaseModel):\n",
    "    \"\"\"State maintained throughout the agent's workflow\"\"\"\n",
    "    ticket: JiraTicket\n",
    "    current_task: Optional[str] = None\n",
    "    sql_query: Optional[str]\n",
    "    validation_result: Optional[ValidationResult]\n",
    "    query_result: Optional[QueryResult]\n",
    "    business_insight: Optional[str]\n",
    "    error_message: Optional[str]\n",
    "    retry_count: int = 0"
   ]
  },
  {
   "cell_type": "code",
   "execution_count": 4,
   "id": "8689a637",
   "metadata": {},
   "outputs": [],
   "source": [
    "# JIRA connection parameters\n",
    "JIRA_BASE_URL = os.environ.get('JIRA_BASE_URL')\n",
    "JIRA_USER_EMAIL = os.environ.get('JIRA_USER_EMAIL')\n",
    "JIRA_API_TOKEN = os.environ.get('JIRA_API_TOKEN') \n",
    "JIRA_PROJECT_KEY = os.environ.get('JIRA_PROJECT_KEY')"
   ]
  },
  {
   "cell_type": "code",
   "execution_count": 5,
   "id": "7fd4329d",
   "metadata": {},
   "outputs": [],
   "source": [
    "DB_PATH = os.path.expanduser(\"../data/porsche_analytics.db\")\n",
    "sqlite_connection_string = f\"sqlite:///{DB_PATH}\"\n",
    "\n",
    "jira = JiraClient(base_url=JIRA_BASE_URL, email=JIRA_USER_EMAIL, api_token=JIRA_API_TOKEN)\n",
    "sqlite_client = DatabaseClient(sqlite_connection_string)\n",
    "agent = DataAnalysisAgent(config_path=str(project_root / \"config\" / \"config.yaml\"))"
   ]
  },
  {
   "cell_type": "code",
   "execution_count": 6,
   "id": "646af5ef",
   "metadata": {},
   "outputs": [],
   "source": [
    "# TODO: in production pipeline, pull ticket from Jira!!!!\n",
    "\n",
    "# tickets to test\n",
    "JIRA_PROJECT_KEY=\"KAN\"\n",
    "\n",
    "tickets = [\n",
    "    {\n",
    "        'project': JIRA_PROJECT_KEY,\n",
    "        'summary': 'Car Models Analysis',\n",
    "        'description': 'How many unqiue car models we have per car category? Sort the results in descending order!',\n",
    "        'issuetype': 'Task',\n",
    "    },\n",
    "    {\n",
    "        'project': JIRA_PROJECT_KEY,\n",
    "        'summary': 'Dealership Performance by Region Analysis',\n",
    "        'description': 'Analyze the average dealership rating and sales capacity by region. Which regions have the highest performing dealerships? Sort the results by average rating in descending order.',\n",
    "        'issuetype': 'Task',\n",
    "    },\n",
    "    {\n",
    "        'project': JIRA_PROJECT_KEY,\n",
    "        'summary': 'Service Cost Analysis by Model and Service Type',\n",
    "        'description': 'Analyze the average service costs by model and service type. Identify which models have higher maintenance costs and which service types contribute most to overall service revenue.',\n",
    "        'issuetype': 'Task',\n",
    "    },\n",
    "    # irrelevant task that doesn't match the schema\n",
    "    {\n",
    "        \"id\": \"DA-101\",\n",
    "        \"summary\": \"Total Sales Overview\",\n",
    "        \"description\": \"What is the average user basket size?\"\n",
    "    },\n",
    "]"
   ]
  },
  {
   "cell_type": "markdown",
   "id": "5d933955",
   "metadata": {},
   "source": [
    "Functions"
   ]
  },
  {
   "cell_type": "code",
   "execution_count": 7,
   "id": "8e1decdf",
   "metadata": {},
   "outputs": [],
   "source": [
    "def set_task_from_ticket(state: AgentState) -> AgentState:\n",
    "    \"\"\"Extract task from JIRA ticket.\"\"\"\n",
    "    logger.info(f\"Extracting task from ticket {state.ticket.ticket_id}\")\n",
    "    task = state.ticket.description\n",
    "    return state.model_copy(update={\"current_task\": task})\n",
    "\n",
    "\n",
    "generate_sql_fn = agent.sql_generation_tool.generate_query\n",
    "def generate_sql(state: AgentState) -> AgentState:\n",
    "    \"\"\"Generate SQL query from task description.\"\"\"\n",
    "    logger.info(f\"Generating SQL for the current task\")\n",
    "    try:\n",
    "        sql_query = generate_sql_fn(task_description=state.current_task)\n",
    "        return state.model_copy(update={\"sql_query\": sql_query, \"error_message\": None})\n",
    "    except Exception as e:\n",
    "        logger.error(f\"Error generating SQL: {str(e)}\")\n",
    "        return state.model_copy(update={\"error_message\": str(e)})\n",
    "\n",
    "\n",
    "validate_sql_fn = agent.sql_validation_tool.validate_sql\n",
    "def validate_sql(state: AgentState) -> AgentState:\n",
    "    \"\"\"Validate the generated SQL query.\"\"\"\n",
    "    logger.info(\"Validating SQL query\")\n",
    "    if not state.sql_query:\n",
    "        return state.model_copy(update={\n",
    "            \"validation_result\": ValidationResult(is_valid=False, errors=[\"No SQL query to validate\"])\n",
    "        })\n",
    "        \n",
    "    validation_result = validate_sql_fn(sql_query=state.sql_query)\n",
    "    return state.model_copy(update={\"validation_result\": validation_result})\n",
    "\n",
    "\n",
    "execute_query_fn = sqlite_client.execute_query\n",
    "def execute_query(state: AgentState) -> AgentState:\n",
    "    \"\"\"Execute the validated SQL query.\"\"\"\n",
    "    logger.info(\"Executing SQL query\")\n",
    "    try:\n",
    "        query_result = execute_query_fn(state.sql_query)\n",
    "        return state.model_copy(update={\"query_result\": query_result, \"error_message\": None})\n",
    "    except Exception as e:\n",
    "        logger.error(f\"Error executing query: {str(e)}\")\n",
    "        return state.model_copy(update={\"error_message\": str(e)})\n",
    "\n",
    "\n",
    "generate_insights_fn = agent.sql_insight_tool.generate_insights\n",
    "def generate_insights(state: AgentState) -> AgentState:\n",
    "    \"\"\"Generate business insights from query results.\"\"\"\n",
    "    logger.info(\"Generating business insights\")\n",
    "    if not state.query_result:\n",
    "        return state.model_copy(update={\n",
    "            \"business_insight\": BusinessInsight(\n",
    "                summary=\"Unable to generate insights - no query results available.\",\n",
    "                key_points=[\"Query execution failed.\"]\n",
    "            )\n",
    "        })\n",
    "\n",
    "    insights = generate_insights_fn(\n",
    "        task_description=state.current_task,\n",
    "        query_result=state.query_result\n",
    "    )\n",
    "    return state.model_copy(update={\"business_insight\": insights})"
   ]
  },
  {
   "cell_type": "code",
   "execution_count": 8,
   "id": "f1089067",
   "metadata": {},
   "outputs": [
    {
     "name": "stderr",
     "output_type": "stream",
     "text": [
      "2025-07-03 15:00:07,268 - __main__ - INFO - Extracting task from ticket KAN\n"
     ]
    },
    {
     "name": "stdout",
     "output_type": "stream",
     "text": [
      "\n",
      "Initial Task: \n",
      " None\n",
      "\n",
      "Task after Ticket Extraction: \n",
      " How many unqiue car models we have per car category? Sort the results in descending order!\n"
     ]
    }
   ],
   "source": [
    "# Jira Ticket\n",
    "ticket = tickets[0] \n",
    "\n",
    "jira_ticket = JiraTicket(\n",
    "    ticket_id=ticket['project'],\n",
    "    summary=ticket['summary'],\n",
    "    description=ticket['description'],\n",
    "    status=\"OPEN\",\n",
    "    assignee='bot'\n",
    ")\n",
    "\n",
    "# define agent state\n",
    "agent_state = AgentState(\n",
    "    ticket=jira_ticket,\n",
    "    current_task=None,\n",
    "    sql_query=None,\n",
    "    validation_result=None,\n",
    "    query_result=None,\n",
    "    business_insight=None,\n",
    "    error_message=None,\n",
    ")\n",
    "\n",
    "# task extraction\n",
    "print('\\nInitial Task: \\n', agent_state.current_task)\n",
    "agent_state = set_task_from_ticket(agent_state)\n",
    "print('\\nTask after Ticket Extraction: \\n', agent_state.current_task)"
   ]
  },
  {
   "cell_type": "code",
   "execution_count": 38,
   "id": "fee1717a",
   "metadata": {},
   "outputs": [
    {
     "name": "stderr",
     "output_type": "stream",
     "text": [
      "2025-07-03 13:59:05,422 - __main__ - INFO - Generating SQL for the current task\n",
      "2025-07-03 13:59:05,425 - src.tools.sql_tool - INFO - Generating SQL query for task: How many unqiue car models we have per car category? Sort the results in descending order!\n",
      "2025-07-03 13:59:07,992 - httpx - INFO - HTTP Request: POST https://api.openai.com/v1/chat/completions \"HTTP/1.1 200 OK\"\n"
     ]
    },
    {
     "name": "stdout",
     "output_type": "stream",
     "text": [
      "\n",
      "SQL Query Generated: \n",
      " SELECT segment, COUNT(DISTINCT model_id) AS unique_models\n",
      "FROM models\n",
      "GROUP BY segment\n",
      "ORDER BY unique_models DESC;\n"
     ]
    }
   ],
   "source": [
    "# SQL generation\n",
    "agent_state = generate_sql(agent_state)\n",
    "print('\\nSQL Query Generated: \\n', agent_state.sql_query)"
   ]
  },
  {
   "cell_type": "code",
   "execution_count": 39,
   "id": "db863af6",
   "metadata": {},
   "outputs": [
    {
     "name": "stderr",
     "output_type": "stream",
     "text": [
      "2025-07-03 13:59:08,008 - __main__ - INFO - Validating SQL query\n"
     ]
    },
    {
     "name": "stdout",
     "output_type": "stream",
     "text": [
      "\n",
      "Validation Results: \n",
      " is_valid=True errors=[] warnings=[] suggestion=None\n"
     ]
    }
   ],
   "source": [
    "# SQL validation\n",
    "agent_state = validate_sql(agent_state)\n",
    "print('\\nValidation Results: \\n', agent_state.validation_result)"
   ]
  },
  {
   "cell_type": "code",
   "execution_count": 45,
   "id": "7768069e",
   "metadata": {},
   "outputs": [
    {
     "name": "stderr",
     "output_type": "stream",
     "text": [
      "2025-07-03 14:00:20,523 - __main__ - INFO - Executing SQL query\n",
      "2025-07-03 14:00:20,530 - src.clients.db_client - INFO - Query executed successfully. Returned 7 rows.\n"
     ]
    },
    {
     "name": "stdout",
     "output_type": "stream",
     "text": [
      "Query Results: \n",
      " data=[{'segment': 'Sports Car', 'unique_models': 5}, {'segment': 'SUV', 'unique_models': 3}, {'segment': 'Wagon', 'unique_models': 1}, {'segment': 'Supercar', 'unique_models': 1}, {'segment': 'Sedan', 'unique_models': 1}, {'segment': 'Luxury', 'unique_models': 1}, {'segment': 'Hypercar', 'unique_models': 1}] row_count=7 column_names=['segment', 'unique_models'] execution_time_ms=3.1719207763671875\n"
     ]
    }
   ],
   "source": [
    "# sql running\n",
    "agent_state = execute_query(agent_state)\n",
    "print('Query Results: \\n', agent_state.query_result)"
   ]
  },
  {
   "cell_type": "code",
   "execution_count": null,
   "id": "860117b6",
   "metadata": {},
   "outputs": [],
   "source": [
    "# results validation\n",
    "# check if we need it"
   ]
  },
  {
   "cell_type": "code",
   "execution_count": 50,
   "id": "6d22301d",
   "metadata": {},
   "outputs": [
    {
     "name": "stderr",
     "output_type": "stream",
     "text": [
      "2025-07-03 14:09:30,855 - __main__ - INFO - Generating business insights\n",
      "2025-07-03 14:09:30,858 - src.tools.insight_tool - INFO - Generating insights for task: How many unqiue car models we have per car category? Sort the results in descending order!\n",
      "2025-07-03 14:09:41,503 - httpx - INFO - HTTP Request: POST https://api.openai.com/v1/chat/completions \"HTTP/1.1 200 OK\"\n"
     ]
    },
    {
     "name": "stdout",
     "output_type": "stream",
     "text": [
      "\n",
      "Business Insights: \n",
      " Summary: The data analysis reveals the number of unique car models per car category. The 'Sports Car' category has the highest number of unique models with 5, followed by 'SUV' with 3. All other categories have only one unique model.\n",
      "\n",
      "Key Points:\n",
      "- The 'Sports Car' category has the most diverse range of models, indicating a potentially competitive market segment.\n",
      "- The 'SUV' category is the second most diverse, suggesting a moderate level of competition.\n",
      "- The 'Wagon', 'Supercar', 'Sedan', 'Luxury', and 'Hypercar' categories each have only one unique model, indicating a lack of diversity in these segments.\n",
      "\n",
      "Recommendations:\n",
      "- Consider expanding the range of models in the 'Wagon', 'Supercar', 'Sedan', 'Luxury', and 'Hypercar' categories to increase competitiveness and customer choice.\n",
      "- Investigate the reasons behind the high diversity in the 'Sports Car' category. This could provide insights into consumer preferences and successful strategies.\n",
      "- Maintain a close watch on the 'SUV' category, as it has the potential to become more competitive with the introduction of more unique models.\n"
     ]
    }
   ],
   "source": [
    "# insights generation\n",
    "agent_state = generate_insights(agent_state)\n",
    "print('\\nBusiness Insights: \\n', agent_state.business_insight)"
   ]
  },
  {
   "cell_type": "code",
   "execution_count": 54,
   "id": "09e0c804",
   "metadata": {},
   "outputs": [],
   "source": [
    "issue = jira.get_issue(issue='KAN-9')\n",
    "issue_details = jira.extract_issue_details(issue)"
   ]
  },
  {
   "cell_type": "code",
   "execution_count": 58,
   "id": "cec8881b",
   "metadata": {},
   "outputs": [
    {
     "data": {
      "text/plain": [
       "{'self': 'https://vladislavphysique.atlassian.net/rest/api/2/issue/10019/comment/10000',\n",
       " 'id': '10000',\n",
       " 'author': {'self': 'https://vladislavphysique.atlassian.net/rest/api/2/user?accountId=70121%3Af86554c4-819a-470f-9606-bf3e8b1202e6',\n",
       "  'accountId': '70121:f86554c4-819a-470f-9606-bf3e8b1202e6',\n",
       "  'emailAddress': 'vladislavphysique@gmail.com',\n",
       "  'avatarUrls': {'48x48': 'https://secure.gravatar.com/avatar/3a2cef07b580b80deb205a56efe02d14?d=https%3A%2F%2Favatar-management--avatars.us-west-2.prod.public.atl-paas.net%2Finitials%2FVR-3.png',\n",
       "   '24x24': 'https://secure.gravatar.com/avatar/3a2cef07b580b80deb205a56efe02d14?d=https%3A%2F%2Favatar-management--avatars.us-west-2.prod.public.atl-paas.net%2Finitials%2FVR-3.png',\n",
       "   '16x16': 'https://secure.gravatar.com/avatar/3a2cef07b580b80deb205a56efe02d14?d=https%3A%2F%2Favatar-management--avatars.us-west-2.prod.public.atl-paas.net%2Finitials%2FVR-3.png',\n",
       "   '32x32': 'https://secure.gravatar.com/avatar/3a2cef07b580b80deb205a56efe02d14?d=https%3A%2F%2Favatar-management--avatars.us-west-2.prod.public.atl-paas.net%2Finitials%2FVR-3.png'},\n",
       "  'displayName': 'Vladislav Raskoshinskii',\n",
       "  'active': True,\n",
       "  'timeZone': 'Asia/Yekaterinburg',\n",
       "  'accountType': 'atlassian'},\n",
       " 'body': \"Summary: The data analysis reveals the number of unique car models per car category. The 'Sports Car' category has the highest number of unique models with 5, followed by 'SUV' with 3. All other categories have only one unique model.\\n\\nKey Points:\\n- The 'Sports Car' category has the most diverse range of models, indicating a potentially competitive market segment.\\n- The 'SUV' category is the second most diverse, suggesting a moderate level of competition.\\n- The 'Wagon', 'Supercar', 'Sedan', 'Luxury', and 'Hypercar' categories each have only one unique model, indicating a lack of diversity in these segments.\\n\\nRecommendations:\\n- Consider expanding the range of models in the 'Wagon', 'Supercar', 'Sedan', 'Luxury', and 'Hypercar' categories to increase competitiveness and customer choice.\\n- Investigate the reasons behind the high diversity in the 'Sports Car' category. This could provide insights into consumer preferences and successful strategies.\\n- Maintain a close watch on the 'SUV' category, as it has the potential to become more competitive with the introduction of more unique models.\",\n",
       " 'updateAuthor': {'self': 'https://vladislavphysique.atlassian.net/rest/api/2/user?accountId=70121%3Af86554c4-819a-470f-9606-bf3e8b1202e6',\n",
       "  'accountId': '70121:f86554c4-819a-470f-9606-bf3e8b1202e6',\n",
       "  'emailAddress': 'vladislavphysique@gmail.com',\n",
       "  'avatarUrls': {'48x48': 'https://secure.gravatar.com/avatar/3a2cef07b580b80deb205a56efe02d14?d=https%3A%2F%2Favatar-management--avatars.us-west-2.prod.public.atl-paas.net%2Finitials%2FVR-3.png',\n",
       "   '24x24': 'https://secure.gravatar.com/avatar/3a2cef07b580b80deb205a56efe02d14?d=https%3A%2F%2Favatar-management--avatars.us-west-2.prod.public.atl-paas.net%2Finitials%2FVR-3.png',\n",
       "   '16x16': 'https://secure.gravatar.com/avatar/3a2cef07b580b80deb205a56efe02d14?d=https%3A%2F%2Favatar-management--avatars.us-west-2.prod.public.atl-paas.net%2Finitials%2FVR-3.png',\n",
       "   '32x32': 'https://secure.gravatar.com/avatar/3a2cef07b580b80deb205a56efe02d14?d=https%3A%2F%2Favatar-management--avatars.us-west-2.prod.public.atl-paas.net%2Finitials%2FVR-3.png'},\n",
       "  'displayName': 'Vladislav Raskoshinskii',\n",
       "  'active': True,\n",
       "  'timeZone': 'Asia/Yekaterinburg',\n",
       "  'accountType': 'atlassian'},\n",
       " 'created': '2025-07-03T14:32:04.378+0200',\n",
       " 'updated': '2025-07-03T14:32:04.378+0200',\n",
       " 'jsdPublic': True}"
      ]
     },
     "execution_count": 58,
     "metadata": {},
     "output_type": "execute_result"
    }
   ],
   "source": [
    "# change ticket status\n",
    "jira.transition_issue(issue_key=issue_details['ticket_id'], status_name='В работе')\n",
    "\n",
    "# add comment\n",
    "comment = agent_state.business_insight\n",
    "jira.add_comment(issue=issue_details['ticket_id'], comment=comment)"
   ]
  },
  {
   "cell_type": "code",
   "execution_count": null,
   "id": "69a7a96b",
   "metadata": {},
   "outputs": [],
   "source": [
    "def update_jira_ticket(state: AgentState) -> AgentState:\n",
    "    \"\"\"Update JIRA ticket with insights.\"\"\"\n",
    "    logger.info(f\"Updating JIRA ticket {state.ticket.ticket_id}\")\n",
    "\n",
    "    # ticket status update\n",
    "    jira.transition_issue(issue_key=state.ticket.ticket_id, status_name='В работе')\n",
    "\n",
    "    # add comment with business insights\n",
    "    if not state.business_insight:\n",
    "        error_comment = \"Sorry, I cannot generate insights for this task.\"\n",
    "        jira.add_comment(issue=state.ticket.ticket_id, comment=error_comment)\n",
    "    \n",
    "    jira.add_comment(issue=state.ticket.ticket_id, comment=state.business_insight)\n",
    "    return state\n",
    "\n",
    "def get_tickets_ids_to_process():\n",
    "    \n"
   ]
  },
  {
   "cell_type": "code",
   "execution_count": null,
   "id": "f9c3b9cb",
   "metadata": {},
   "outputs": [],
   "source": [
    "def get_active_issues_from_jira():\n",
    "    \"\"\"Get active tickets from JIRA.\"\"\"\n",
    "    # get issues ids assigned to the bot\n",
    "    active_issues = jira.get_active_issues()\n",
    "    issue_keys = [issue['key'] for issue in active_issues]\n",
    "\n",
    "    # rule: if the last comment from bot -> no need to process the ticket\n",
    "    issue_ids = []\n",
    "    for issue in issue_keys:\n",
    "        # TODO: improve in the future (API call in a loop -> slow)\n",
    "        response = jira.get_comments(issue_key=issue)\n",
    "\n",
    "        # if empty comments -> process\n",
    "        if not response['comments']:\n",
    "            issue_ids.append(issue)\n",
    "        else:\n",
    "            last_comment = response['comments'][-1]\n",
    "            if last_comment['author']['accountId'] != jira.account_id:\n",
    "                issue_ids.append(issue)\n",
    "    return issue_ids\n"
   ]
  },
  {
   "cell_type": "code",
   "execution_count": null,
   "id": "7988b72b",
   "metadata": {},
   "outputs": [
    {
     "data": {
      "text/plain": [
       "['KAN-11', 'KAN-10']"
      ]
     },
     "execution_count": 39,
     "metadata": {},
     "output_type": "execute_result"
    }
   ],
   "source": [
    "# get issues ids assigned to the bot\n",
    "active_issues = jira.get_active_issues()\n",
    "issue_keys = [issue['key'] for issue in active_issues]\n",
    "\n",
    "# rule: if the last comment from bot -> no need to process the ticket\n",
    "issue_ids = []\n",
    "for issue in issue_keys:\n",
    "    # TODO: improve in the future (API call in a loop -> slow)\n",
    "    response = jira.get_comments(issue_key=issue)\n",
    "\n",
    "    # if empty comments -> process\n",
    "    if not response['comments']:\n",
    "        issue_ids.append(issue)\n",
    "    else:\n",
    "        last_comment = response['comments'][-1]\n",
    "        if last_comment['author']['accountId'] != jira.account_id:\n",
    "            issue_ids.append(issue)\n",
    "\n",
    "issue_ids\n",
    "\n"
   ]
  },
  {
   "cell_type": "code",
   "execution_count": 38,
   "id": "7294266b",
   "metadata": {},
   "outputs": [
    {
     "data": {
      "text/plain": [
       "'70121:f86554c4-819a-470f-9606-bf3e8b1202e6'"
      ]
     },
     "execution_count": 38,
     "metadata": {},
     "output_type": "execute_result"
    }
   ],
   "source": [
    "jira.account_id"
   ]
  },
  {
   "cell_type": "code",
   "execution_count": 23,
   "id": "98bf1784",
   "metadata": {},
   "outputs": [],
   "source": [
    "comments = jira.get_comments(issue_key=issue)"
   ]
  },
  {
   "cell_type": "code",
   "execution_count": 24,
   "id": "c51662aa",
   "metadata": {},
   "outputs": [
    {
     "data": {
      "text/plain": [
       "'KAN-9'"
      ]
     },
     "execution_count": 24,
     "metadata": {},
     "output_type": "execute_result"
    }
   ],
   "source": [
    "issue"
   ]
  },
  {
   "cell_type": "code",
   "execution_count": 35,
   "id": "63bb9e07",
   "metadata": {},
   "outputs": [],
   "source": [
    "last_comment = comments['comments'][-1]"
   ]
  },
  {
   "cell_type": "code",
   "execution_count": 36,
   "metadata": {},
   "outputs": [],
   "source": [
    "last_comment = last_comment['author']['accountId']"
   ]
  },
  {
   "cell_type": "code",
   "execution_count": 37,
   "id": "67f8b51c",
   "metadata": {},
   "outputs": [
    {
     "data": {
      "text/plain": [
       "'70121:f86554c4-819a-470f-9606-bf3e8b1202e6'"
      ]
     },
     "execution_count": 37,
     "metadata": {},
     "output_type": "execute_result"
    }
   ],
   "source": [
    "last_comment"
   ]
  },
  {
   "cell_type": "code",
   "execution_count": null,
   "id": "bde77d3f",
   "metadata": {},
   "outputs": [],
   "source": []
  },
  {
   "cell_type": "code",
   "execution_count": null,
   "id": "3f8ad893",
   "metadata": {},
   "outputs": [],
   "source": []
  },
  {
   "cell_type": "code",
   "execution_count": null,
   "id": "0f4063f5",
   "metadata": {},
   "outputs": [],
   "source": []
  },
  {
   "cell_type": "code",
   "execution_count": null,
   "id": "9b978909",
   "metadata": {},
   "outputs": [],
   "source": []
  }
 ],
 "metadata": {
  "kernelspec": {
   "display_name": "data-analyzer",
   "language": "python",
   "name": "python3"
  },
  "language_info": {
   "codemirror_mode": {
    "name": "ipython",
    "version": 3
   },
   "file_extension": ".py",
   "mimetype": "text/x-python",
   "name": "python",
   "nbconvert_exporter": "python",
   "pygments_lexer": "ipython3",
   "version": "3.11.2"
  }
 },
 "nbformat": 4,
 "nbformat_minor": 5
}
