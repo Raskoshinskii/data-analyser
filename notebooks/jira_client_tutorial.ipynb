{
 "cells": [
  {
   "cell_type": "markdown",
   "id": "9143d91e",
   "metadata": {},
   "source": [
    "# Jira Client Tutorial"
   ]
  },
  {
   "cell_type": "code",
   "execution_count": 2,
   "id": "36968d5c",
   "metadata": {},
   "outputs": [
    {
     "data": {
      "text/plain": [
       "True"
      ]
     },
     "execution_count": 2,
     "metadata": {},
     "output_type": "execute_result"
    }
   ],
   "source": [
    "import os\n",
    "import sys\n",
    "from pathlib import Path\n",
    "\n",
    "# since notebook is outside of the src directory, we need to add the src directory to the path\n",
    "project_root = Path.home() / \"dev\" / \"data-analyser\"\n",
    "if project_root not in sys.path:\n",
    "    sys.path.append(str(project_root))\n",
    "\n",
    "from dotenv import load_dotenv\n",
    "\n",
    "from src.clients.jira_client import JiraClient\n",
    "\n",
    "load_dotenv()"
   ]
  },
  {
   "cell_type": "code",
   "execution_count": 3,
   "id": "49e14229",
   "metadata": {},
   "outputs": [],
   "source": [
    "# JIRA connection parameters\n",
    "JIRA_BASE_URL = os.environ.get(\"JIRA_BASE_URL\")\n",
    "JIRA_USER_EMAIL = os.environ.get(\"JIRA_USER_EMAIL\")\n",
    "JIRA_API_TOKEN = os.environ.get(\"JIRA_API_TOKEN\")\n",
    "JIRA_PROJECT_KEY = os.environ.get(\"JIRA_PROJECT_KEY\")"
   ]
  },
  {
   "cell_type": "code",
   "execution_count": 4,
   "id": "a95ba85c",
   "metadata": {},
   "outputs": [],
   "source": [
    "# Jira Client setup\n",
    "jira = JiraClient(\n",
    "    base_url=JIRA_BASE_URL, email=JIRA_USER_EMAIL, api_token=JIRA_API_TOKEN\n",
    ")"
   ]
  },
  {
   "cell_type": "code",
   "execution_count": 4,
   "id": "2814ca2a",
   "metadata": {},
   "outputs": [
    {
     "data": {
      "text/plain": [
       "{'id': '10018',\n",
       " 'key': 'KAN-8',\n",
       " 'self': 'https://vladislavphysique.atlassian.net/rest/api/2/issue/10018'}"
      ]
     },
     "execution_count": 4,
     "metadata": {},
     "output_type": "execute_result"
    }
   ],
   "source": [
    "# Issue creation\n",
    "issue_info = {\n",
    "    \"project\": JIRA_PROJECT_KEY,\n",
    "    \"summary\": \"Car Models Analysis\",\n",
    "    \"description\": \"How many unqiue car models we have per car category? Sort the results in descending order!\",\n",
    "    \"issuetype\": \"Task\",\n",
    "}\n",
    "\n",
    "resposne = jira.create_issue(issue_info)\n",
    "resposne"
   ]
  },
  {
   "cell_type": "code",
   "execution_count": 5,
   "id": "f5b16cf3",
   "metadata": {},
   "outputs": [],
   "source": [
    "issue = jira.get_issue(issue=\"KAN-9\")\n",
    "issue_details = jira.extract_issue_details(issue)"
   ]
  },
  {
   "cell_type": "code",
   "execution_count": null,
   "id": "d97d2e2f",
   "metadata": {},
   "outputs": [],
   "source": [
    "# change ticket status\n",
    "jira.transition_issue(issue_key=issue_details[\"ticket_id\"], status_name=\"В работе\")\n",
    "\n",
    "# add comment\n",
    "jira.add_comment(issue_key=issue_details[\"ticket_id\"], comment=\"Starting the analysis!\")"
   ]
  },
  {
   "cell_type": "code",
   "execution_count": 8,
   "id": "3b809595",
   "metadata": {},
   "outputs": [
    {
     "data": {
      "text/plain": [
       "{'ticket_id': 'KAN-9',\n",
       " 'summary': 'Car Models Analysis',\n",
       " 'description': 'How many unqiue car models we have per car category? Sort the results in descending order!',\n",
       " 'status': 'К выполнению',\n",
       " 'assignee': {'account_id': None, 'name': None, 'email': None},\n",
       " 'reporter': {'account_id': '70121:f86554c4-819a-470f-9606-bf3e8b1202e6',\n",
       "  'name': 'Vladislav Raskoshinskii',\n",
       "  'email': 'vladislavphysique@gmail.com'},\n",
       " 'priority': 'Medium',\n",
       " 'due_date': None,\n",
       " 'created_date': '2025-06-18T17:47:39.964+0200',\n",
       " 'updated_date': '2025-06-18T17:47:40.039+0200'}"
      ]
     },
     "execution_count": 8,
     "metadata": {},
     "output_type": "execute_result"
    }
   ],
   "source": [
    "jira.add_comment(issue_key=issue_details[\"ticket_id\"], comment=\"Starting the analysis!\")"
   ]
  },
  {
   "cell_type": "code",
   "execution_count": 6,
   "id": "6a6c93c1",
   "metadata": {},
   "outputs": [
    {
     "data": {
      "text/plain": [
       "{'ticket_id': 'KAN-9',\n",
       " 'summary': 'Car Models Analysis',\n",
       " 'description': 'How many unqiue car models we have per car category? Sort the results in descending order!',\n",
       " 'status': 'К выполнению',\n",
       " 'assignee': {'account_id': None, 'name': None, 'email': None},\n",
       " 'reporter': {'account_id': '70121:f86554c4-819a-470f-9606-bf3e8b1202e6',\n",
       "  'name': 'Vladislav Raskoshinskii',\n",
       "  'email': 'vladislavphysique@gmail.com'},\n",
       " 'priority': 'Medium',\n",
       " 'due_date': None,\n",
       " 'created_date': '2025-06-18T17:47:39.964+0200',\n",
       " 'updated_date': '2025-06-18T17:47:40.039+0200'}"
      ]
     },
     "execution_count": 6,
     "metadata": {},
     "output_type": "execute_result"
    }
   ],
   "source": [
    "jira.update_issue(issue_id=issue_details.ticket_id, status=\"In Progress\")"
   ]
  },
  {
   "cell_type": "code",
   "execution_count": null,
   "id": "225e607e",
   "metadata": {},
   "outputs": [],
   "source": []
  }
 ],
 "metadata": {
  "kernelspec": {
   "display_name": "data-analyzer",
   "language": "python",
   "name": "python3"
  },
  "language_info": {
   "codemirror_mode": {
    "name": "ipython",
    "version": 3
   },
   "file_extension": ".py",
   "mimetype": "text/x-python",
   "name": "python",
   "nbconvert_exporter": "python",
   "pygments_lexer": "ipython3",
   "version": "3.11.2"
  }
 },
 "nbformat": 4,
 "nbformat_minor": 5
}
