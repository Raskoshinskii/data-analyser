{
 "cells": [
  {
   "cell_type": "markdown",
   "id": "9143d91e",
   "metadata": {},
   "source": [
    "# Jira Client Tutorial"
   ]
  },
  {
   "cell_type": "code",
   "execution_count": 15,
   "id": "36968d5c",
   "metadata": {},
   "outputs": [
    {
     "data": {
      "text/plain": [
       "True"
      ]
     },
     "execution_count": 15,
     "metadata": {},
     "output_type": "execute_result"
    }
   ],
   "source": [
    "import os\n",
    "import sys\n",
    "from pathlib import Path\n",
    "\n",
    "# since notebook is outside of the src directory, we need to add the src directory to the path\n",
    "project_root = Path.home() / \"dev\" / \"data-analyser\"\n",
    "if project_root not in sys.path:\n",
    "    sys.path.append(str(project_root))\n",
    "\n",
    "from dotenv import load_dotenv\n",
    "\n",
    "from src.clients.jira_client import JiraClient\n",
    "\n",
    "load_dotenv()"
   ]
  },
  {
   "cell_type": "code",
   "execution_count": 16,
   "id": "49e14229",
   "metadata": {},
   "outputs": [],
   "source": [
    "# JIRA connection parameters\n",
    "JIRA_BASE_URL = os.environ.get(\"JIRA_BASE_URL\")\n",
    "JIRA_USER_EMAIL = os.environ.get(\"JIRA_USER_EMAIL\")\n",
    "JIRA_API_TOKEN = os.environ.get(\"JIRA_API_TOKEN\")\n",
    "JIRA_PROJECT_KEY = os.environ.get(\"JIRA_PROJECT_KEY\")"
   ]
  },
  {
   "cell_type": "code",
   "execution_count": 17,
   "id": "a95ba85c",
   "metadata": {},
   "outputs": [],
   "source": [
    "# Jira Client setup\n",
    "jira = JiraClient(\n",
    "    base_url=JIRA_BASE_URL, email=JIRA_USER_EMAIL, api_token=JIRA_API_TOKEN\n",
    ")"
   ]
  },
  {
   "cell_type": "code",
   "execution_count": 19,
   "id": "50ff5281",
   "metadata": {},
   "outputs": [],
   "source": [
    "# teesting\n",
    "import requests\n",
    "from requests.auth import HTTPBasicAuth\n",
    "import os\n",
    "\n",
    "def delete_issues_for_project(project_key: str, base_url: str, email: str, api_token: str) -> None:\n",
    "    \"\"\"\n",
    "    Deletes all issues for the specified project in Jira.\n",
    "    \n",
    "    Args:\n",
    "        project_key (str): The key of the Jira project (e.g., \"DATA\").\n",
    "        base_url (str): The base URL of the Jira instance (e.g., \"https://yourcompany.atlassian.net\").\n",
    "        email (str): Your Jira user email.\n",
    "        api_token (str): Your Jira API token.\n",
    "    \n",
    "    Raises:\n",
    "        Exception: If any HTTP request fails.\n",
    "    \"\"\"\n",
    "    auth = HTTPBasicAuth(email, api_token)\n",
    "    headers = {\"Accept\": \"application/json\", \"Content-Type\": \"application/json\"}\n",
    "    jql = f\"project={project_key}\"\n",
    "\n",
    "    start_at = 0\n",
    "    max_results = 50\n",
    "\n",
    "    while True:\n",
    "        # Search issues\n",
    "        search_url = f\"{base_url}/rest/api/3/search\"\n",
    "        params = {\"jql\": jql, \"startAt\": start_at, \"maxResults\": max_results}\n",
    "        response = requests.get(search_url, headers=headers, auth=auth, params=params)\n",
    "\n",
    "        if response.status_code != 200:\n",
    "            raise Exception(f\"Failed to search issues: {response.text}\")\n",
    "\n",
    "        data = response.json()\n",
    "        issues = data.get(\"issues\", [])\n",
    "\n",
    "        if not issues:\n",
    "            print(\"No more issues to delete.\")\n",
    "            break\n",
    "\n",
    "        for issue in issues:\n",
    "            issue_key = issue[\"key\"]\n",
    "            delete_url = f\"{base_url}/rest/api/3/issue/{issue_key}\"\n",
    "            del_response = requests.delete(delete_url, headers=headers, auth=auth)\n",
    "\n",
    "            if del_response.status_code == 204:\n",
    "                print(f\"Deleted issue: {issue_key}\")\n",
    "            else:\n",
    "                print(f\"Failed to delete issue {issue_key}: {del_response.text}\")\n",
    "\n",
    "        start_at += max_results\n"
   ]
  },
  {
   "cell_type": "code",
   "execution_count": 22,
   "id": "cf70fc27",
   "metadata": {},
   "outputs": [
    {
     "name": "stdout",
     "output_type": "stream",
     "text": [
      "Deleted issue: KAN-14\n",
      "Deleted issue: KAN-13\n",
      "Deleted issue: KAN-12\n",
      "Deleted issue: KAN-11\n",
      "Deleted issue: KAN-10\n",
      "Deleted issue: KAN-9\n",
      "No more issues to delete.\n"
     ]
    }
   ],
   "source": [
    "delete_issues_for_project(\n",
    "    project_key=\"KAN\",\n",
    "    base_url=JIRA_BASE_URL,\n",
    "    email=JIRA_USER_EMAIL,\n",
    "    api_token=JIRA_API_TOKEN\n",
    ")\n"
   ]
  },
  {
   "cell_type": "code",
   "execution_count": null,
   "id": "07a7e8a2",
   "metadata": {},
   "outputs": [],
   "source": [
    "JIRA_BASE_URL\n",
    "JIRA_USER_EMAIL\n",
    "JIRA_API_TOKEN\n",
    "JIRA_PROJECT_KEY"
   ]
  },
  {
   "cell_type": "code",
   "execution_count": 4,
   "id": "2814ca2a",
   "metadata": {},
   "outputs": [
    {
     "data": {
      "text/plain": [
       "{'id': '10018',\n",
       " 'key': 'KAN-8',\n",
       " 'self': 'https://vladislavphysique.atlassian.net/rest/api/2/issue/10018'}"
      ]
     },
     "execution_count": 4,
     "metadata": {},
     "output_type": "execute_result"
    }
   ],
   "source": [
    "# Issue creation\n",
    "issue_info = {\n",
    "    \"project\": JIRA_PROJECT_KEY,\n",
    "    \"summary\": \"Car Models Analysis\",\n",
    "    \"description\": \"How many unqiue car models we have per car category? Sort the results in descending order!\",\n",
    "    \"issuetype\": \"Task\",\n",
    "}\n",
    "\n",
    "resposne = jira.create_issue(issue_info)\n",
    "resposne"
   ]
  },
  {
   "cell_type": "code",
   "execution_count": 5,
   "id": "f5b16cf3",
   "metadata": {},
   "outputs": [],
   "source": [
    "issue = jira.get_issue(issue=\"KAN-9\")\n",
    "issue_details = jira.extract_issue_details(issue)"
   ]
  },
  {
   "cell_type": "code",
   "execution_count": null,
   "id": "d97d2e2f",
   "metadata": {},
   "outputs": [],
   "source": [
    "# change ticket status\n",
    "jira.transition_issue(issue_key=issue_details[\"ticket_id\"], status_name=\"В работе\")\n",
    "\n",
    "# add comment\n",
    "jira.add_comment(issue_key=issue_details[\"ticket_id\"], comment=\"Starting the analysis!\")"
   ]
  },
  {
   "cell_type": "code",
   "execution_count": 8,
   "id": "3b809595",
   "metadata": {},
   "outputs": [
    {
     "data": {
      "text/plain": [
       "{'ticket_id': 'KAN-9',\n",
       " 'summary': 'Car Models Analysis',\n",
       " 'description': 'How many unqiue car models we have per car category? Sort the results in descending order!',\n",
       " 'status': 'К выполнению',\n",
       " 'assignee': {'account_id': None, 'name': None, 'email': None},\n",
       " 'reporter': {'account_id': '70121:f86554c4-819a-470f-9606-bf3e8b1202e6',\n",
       "  'name': 'Vladislav Raskoshinskii',\n",
       "  'email': 'vladislavphysique@gmail.com'},\n",
       " 'priority': 'Medium',\n",
       " 'due_date': None,\n",
       " 'created_date': '2025-06-18T17:47:39.964+0200',\n",
       " 'updated_date': '2025-06-18T17:47:40.039+0200'}"
      ]
     },
     "execution_count": 8,
     "metadata": {},
     "output_type": "execute_result"
    }
   ],
   "source": [
    "jira.add_comment(issue_key=issue_details[\"ticket_id\"], comment=\"Starting the analysis!\")"
   ]
  },
  {
   "cell_type": "code",
   "execution_count": 6,
   "id": "6a6c93c1",
   "metadata": {},
   "outputs": [
    {
     "data": {
      "text/plain": [
       "{'ticket_id': 'KAN-9',\n",
       " 'summary': 'Car Models Analysis',\n",
       " 'description': 'How many unqiue car models we have per car category? Sort the results in descending order!',\n",
       " 'status': 'К выполнению',\n",
       " 'assignee': {'account_id': None, 'name': None, 'email': None},\n",
       " 'reporter': {'account_id': '70121:f86554c4-819a-470f-9606-bf3e8b1202e6',\n",
       "  'name': 'Vladislav Raskoshinskii',\n",
       "  'email': 'vladislavphysique@gmail.com'},\n",
       " 'priority': 'Medium',\n",
       " 'due_date': None,\n",
       " 'created_date': '2025-06-18T17:47:39.964+0200',\n",
       " 'updated_date': '2025-06-18T17:47:40.039+0200'}"
      ]
     },
     "execution_count": 6,
     "metadata": {},
     "output_type": "execute_result"
    }
   ],
   "source": [
    "jira.update_issue(issue_id=issue_details.ticket_id, status=\"In Progress\")"
   ]
  },
  {
   "cell_type": "code",
   "execution_count": null,
   "id": "225e607e",
   "metadata": {},
   "outputs": [],
   "source": []
  }
 ],
 "metadata": {
  "kernelspec": {
   "display_name": "data-analyzer",
   "language": "python",
   "name": "python3"
  },
  "language_info": {
   "codemirror_mode": {
    "name": "ipython",
    "version": 3
   },
   "file_extension": ".py",
   "mimetype": "text/x-python",
   "name": "python",
   "nbconvert_exporter": "python",
   "pygments_lexer": "ipython3",
   "version": "3.11.2"
  }
 },
 "nbformat": 4,
 "nbformat_minor": 5
}
