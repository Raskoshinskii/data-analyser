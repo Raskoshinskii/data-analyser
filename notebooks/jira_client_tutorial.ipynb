{
 "cells": [
  {
   "cell_type": "markdown",
   "id": "9143d91e",
   "metadata": {},
   "source": [
    "# Jira Client Tutorial"
   ]
  },
  {
   "cell_type": "code",
   "execution_count": 1,
   "id": "36968d5c",
   "metadata": {},
   "outputs": [
    {
     "data": {
      "text/plain": [
       "True"
      ]
     },
     "execution_count": 1,
     "metadata": {},
     "output_type": "execute_result"
    }
   ],
   "source": [
    "import os\n",
    "import sys\n",
    "from pathlib import Path\n",
    "\n",
    "# since notebook is outside of the src directory, we need to add the src directory to the path\n",
    "project_root = Path.home() / \"dev\" / \"data-analyser\"\n",
    "if project_root not in sys.path:\n",
    "    sys.path.append(str(project_root))\n",
    "\n",
    "from dotenv import load_dotenv\n",
    "\n",
    "from src.clients.jira_client import JiraClient\n",
    "\n",
    "load_dotenv()"
   ]
  },
  {
   "cell_type": "code",
   "execution_count": 2,
   "id": "49e14229",
   "metadata": {},
   "outputs": [],
   "source": [
    "# JIRA connection parameters\n",
    "JIRA_BASE_URL = os.environ.get(\"JIRA_BASE_URL\")\n",
    "JIRA_USER_EMAIL = os.environ.get(\"JIRA_USER_EMAIL\")\n",
    "JIRA_API_TOKEN = os.environ.get(\"JIRA_API_TOKEN\")\n",
    "JIRA_PROJECT_KEY = os.environ.get(\"JIRA_PROJECT_KEY\")"
   ]
  },
  {
   "cell_type": "code",
   "execution_count": 3,
   "id": "a95ba85c",
   "metadata": {},
   "outputs": [],
   "source": [
    "# Jira Client setup\n",
    "jira = JiraClient(\n",
    "    base_url=JIRA_BASE_URL, email=JIRA_USER_EMAIL, api_token=JIRA_API_TOKEN\n",
    ")"
   ]
  },
  {
   "cell_type": "code",
   "execution_count": 4,
   "id": "831dbc27",
   "metadata": {},
   "outputs": [],
   "source": [
    "jira.delete_issues(\n",
    "    project_key='KAN',\n",
    "    issue_key=\"all\",\n",
    ")"
   ]
  },
  {
   "cell_type": "code",
   "execution_count": 6,
   "id": "55e1e343",
   "metadata": {},
   "outputs": [],
   "source": [
    "issues = jira.run_jql(\n",
    "    jql=f\"project = {JIRA_PROJECT_KEY} ORDER BY created ASC\",\n",
    "    max_results=50,\n",
    ")"
   ]
  },
  {
   "cell_type": "code",
   "execution_count": null,
   "id": "0e6526af",
   "metadata": {},
   "outputs": [],
   "source": []
  },
  {
   "cell_type": "code",
   "execution_count": null,
   "id": "0dea0511",
   "metadata": {},
   "outputs": [],
   "source": []
  },
  {
   "cell_type": "code",
   "execution_count": null,
   "id": "5f28a688",
   "metadata": {},
   "outputs": [],
   "source": []
  },
  {
   "cell_type": "code",
   "execution_count": 12,
   "id": "cf70fc27",
   "metadata": {},
   "outputs": [
    {
     "data": {
      "text/plain": [
       "{'expand': 'operations,versionedRepresentations,editmeta,changelog,renderedFields',\n",
       " 'id': '10038',\n",
       " 'self': 'https://vladislavphysique.atlassian.net/rest/api/2/issue/10038',\n",
       " 'key': 'KAN-17',\n",
       " 'fields': {'statuscategorychangedate': '2025-07-07T11:59:28.558+0200',\n",
       "  'issuetype': {'self': 'https://vladislavphysique.atlassian.net/rest/api/2/issuetype/10003',\n",
       "   'id': '10003',\n",
       "   'description': 'Небольшая порция работы.',\n",
       "   'iconUrl': 'https://vladislavphysique.atlassian.net/rest/api/2/universal_avatar/view/type/issuetype/avatar/10318?size=medium',\n",
       "   'name': 'Задача',\n",
       "   'subtask': False,\n",
       "   'avatarId': 10318,\n",
       "   'entityId': '45f55070-1ff1-4ef2-a5a7-85598f9a694b',\n",
       "   'hierarchyLevel': 0},\n",
       "  'components': [],\n",
       "  'timespent': None,\n",
       "  'timeoriginalestimate': None,\n",
       "  'project': {'self': 'https://vladislavphysique.atlassian.net/rest/api/2/project/10000',\n",
       "   'id': '10000',\n",
       "   'key': 'KAN',\n",
       "   'name': 'Data Analysis',\n",
       "   'projectTypeKey': 'software',\n",
       "   'simplified': True,\n",
       "   'avatarUrls': {'48x48': 'https://vladislavphysique.atlassian.net/rest/api/2/universal_avatar/view/type/project/avatar/10414',\n",
       "    '24x24': 'https://vladislavphysique.atlassian.net/rest/api/2/universal_avatar/view/type/project/avatar/10414?size=small',\n",
       "    '16x16': 'https://vladislavphysique.atlassian.net/rest/api/2/universal_avatar/view/type/project/avatar/10414?size=xsmall',\n",
       "    '32x32': 'https://vladislavphysique.atlassian.net/rest/api/2/universal_avatar/view/type/project/avatar/10414?size=medium'}},\n",
       "  'description': 'Analyze the average service costs by model and service type. Identify which models have higher maintenance costs and which service types contribute most to overall service revenue.',\n",
       "  'fixVersions': [],\n",
       "  'customfield_10033': None,\n",
       "  'aggregatetimespent': None,\n",
       "  'statusCategory': {'self': 'https://vladislavphysique.atlassian.net/rest/api/2/statuscategory/2',\n",
       "   'id': 2,\n",
       "   'key': 'new',\n",
       "   'colorName': 'blue-gray',\n",
       "   'name': 'К выполнению'},\n",
       "  'resolution': None,\n",
       "  'customfield_10015': None,\n",
       "  'security': None,\n",
       "  'aggregatetimeestimate': None,\n",
       "  'resolutiondate': None,\n",
       "  'workratio': -1,\n",
       "  'summary': 'Service Cost Analysis by Model and Service Type',\n",
       "  'watches': {'self': 'https://vladislavphysique.atlassian.net/rest/api/2/issue/KAN-17/watchers',\n",
       "   'watchCount': 1,\n",
       "   'isWatching': True},\n",
       "  'lastViewed': None,\n",
       "  'creator': {'self': 'https://vladislavphysique.atlassian.net/rest/api/2/user?accountId=70121%3Af86554c4-819a-470f-9606-bf3e8b1202e6',\n",
       "   'accountId': '70121:f86554c4-819a-470f-9606-bf3e8b1202e6',\n",
       "   'emailAddress': 'vladislavphysique@gmail.com',\n",
       "   'avatarUrls': {'48x48': 'https://secure.gravatar.com/avatar/3a2cef07b580b80deb205a56efe02d14?d=https%3A%2F%2Favatar-management--avatars.us-west-2.prod.public.atl-paas.net%2Finitials%2FVR-3.png',\n",
       "    '24x24': 'https://secure.gravatar.com/avatar/3a2cef07b580b80deb205a56efe02d14?d=https%3A%2F%2Favatar-management--avatars.us-west-2.prod.public.atl-paas.net%2Finitials%2FVR-3.png',\n",
       "    '16x16': 'https://secure.gravatar.com/avatar/3a2cef07b580b80deb205a56efe02d14?d=https%3A%2F%2Favatar-management--avatars.us-west-2.prod.public.atl-paas.net%2Finitials%2FVR-3.png',\n",
       "    '32x32': 'https://secure.gravatar.com/avatar/3a2cef07b580b80deb205a56efe02d14?d=https%3A%2F%2Favatar-management--avatars.us-west-2.prod.public.atl-paas.net%2Finitials%2FVR-3.png'},\n",
       "   'displayName': 'Vladislav Raskoshinskii',\n",
       "   'active': True,\n",
       "   'timeZone': 'Asia/Yekaterinburg',\n",
       "   'accountType': 'atlassian'},\n",
       "  'subtasks': [],\n",
       "  'created': '2025-07-07T11:59:27.968+0200',\n",
       "  'customfield_10021': None,\n",
       "  'reporter': {'self': 'https://vladislavphysique.atlassian.net/rest/api/2/user?accountId=70121%3Af86554c4-819a-470f-9606-bf3e8b1202e6',\n",
       "   'accountId': '70121:f86554c4-819a-470f-9606-bf3e8b1202e6',\n",
       "   'emailAddress': 'vladislavphysique@gmail.com',\n",
       "   'avatarUrls': {'48x48': 'https://secure.gravatar.com/avatar/3a2cef07b580b80deb205a56efe02d14?d=https%3A%2F%2Favatar-management--avatars.us-west-2.prod.public.atl-paas.net%2Finitials%2FVR-3.png',\n",
       "    '24x24': 'https://secure.gravatar.com/avatar/3a2cef07b580b80deb205a56efe02d14?d=https%3A%2F%2Favatar-management--avatars.us-west-2.prod.public.atl-paas.net%2Finitials%2FVR-3.png',\n",
       "    '16x16': 'https://secure.gravatar.com/avatar/3a2cef07b580b80deb205a56efe02d14?d=https%3A%2F%2Favatar-management--avatars.us-west-2.prod.public.atl-paas.net%2Finitials%2FVR-3.png',\n",
       "    '32x32': 'https://secure.gravatar.com/avatar/3a2cef07b580b80deb205a56efe02d14?d=https%3A%2F%2Favatar-management--avatars.us-west-2.prod.public.atl-paas.net%2Finitials%2FVR-3.png'},\n",
       "   'displayName': 'Vladislav Raskoshinskii',\n",
       "   'active': True,\n",
       "   'timeZone': 'Asia/Yekaterinburg',\n",
       "   'accountType': 'atlassian'},\n",
       "  'aggregateprogress': {'progress': 0, 'total': 0},\n",
       "  'priority': {'self': 'https://vladislavphysique.atlassian.net/rest/api/2/priority/3',\n",
       "   'iconUrl': 'https://vladislavphysique.atlassian.net/images/icons/priorities/medium_new.svg',\n",
       "   'name': 'Medium',\n",
       "   'id': '3'},\n",
       "  'customfield_10001': None,\n",
       "  'labels': [],\n",
       "  'environment': None,\n",
       "  'customfield_10019': '0|i0000f:',\n",
       "  'timeestimate': None,\n",
       "  'aggregatetimeoriginalestimate': None,\n",
       "  'versions': [],\n",
       "  'duedate': None,\n",
       "  'progress': {'progress': 0, 'total': 0},\n",
       "  'issuelinks': [],\n",
       "  'votes': {'self': 'https://vladislavphysique.atlassian.net/rest/api/2/issue/KAN-17/votes',\n",
       "   'votes': 0,\n",
       "   'hasVoted': False},\n",
       "  'assignee': None,\n",
       "  'updated': '2025-07-07T11:59:28.056+0200',\n",
       "  'status': {'self': 'https://vladislavphysique.atlassian.net/rest/api/2/status/10000',\n",
       "   'description': '',\n",
       "   'iconUrl': 'https://vladislavphysique.atlassian.net/images/icons/statuses/generic.png',\n",
       "   'name': 'К выполнению',\n",
       "   'id': '10000',\n",
       "   'statusCategory': {'self': 'https://vladislavphysique.atlassian.net/rest/api/2/statuscategory/2',\n",
       "    'id': 2,\n",
       "    'key': 'new',\n",
       "    'colorName': 'blue-gray',\n",
       "    'name': 'К выполнению'}}}}"
      ]
     },
     "execution_count": 12,
     "metadata": {},
     "output_type": "execute_result"
    }
   ],
   "source": [
    "issues['issues'][1]"
   ]
  },
  {
   "cell_type": "code",
   "execution_count": null,
   "id": "07a7e8a2",
   "metadata": {},
   "outputs": [],
   "source": [
    "JIRA_BASE_URL\n",
    "JIRA_USER_EMAIL\n",
    "JIRA_API_TOKEN\n",
    "JIRA_PROJECT_KEY"
   ]
  },
  {
   "cell_type": "code",
   "execution_count": 4,
   "id": "2814ca2a",
   "metadata": {},
   "outputs": [
    {
     "data": {
      "text/plain": [
       "{'id': '10018',\n",
       " 'key': 'KAN-8',\n",
       " 'self': 'https://vladislavphysique.atlassian.net/rest/api/2/issue/10018'}"
      ]
     },
     "execution_count": 4,
     "metadata": {},
     "output_type": "execute_result"
    }
   ],
   "source": [
    "# Issue creation\n",
    "issue_info = {\n",
    "    \"project\": JIRA_PROJECT_KEY,\n",
    "    \"summary\": \"Car Models Analysis\",\n",
    "    \"description\": \"How many unqiue car models we have per car category? Sort the results in descending order!\",\n",
    "    \"issuetype\": \"Task\",\n",
    "}\n",
    "\n",
    "resposne = jira.create_issue(issue_info)\n",
    "resposne"
   ]
  },
  {
   "cell_type": "code",
   "execution_count": 5,
   "id": "f5b16cf3",
   "metadata": {},
   "outputs": [],
   "source": [
    "issue = jira.get_issue(issue=\"KAN-9\")\n",
    "issue_details = jira.extract_issue_details(issue)"
   ]
  },
  {
   "cell_type": "code",
   "execution_count": null,
   "id": "d97d2e2f",
   "metadata": {},
   "outputs": [],
   "source": [
    "# change ticket status\n",
    "jira.transition_issue(issue_key=issue_details[\"ticket_id\"], status_name=\"В работе\")\n",
    "\n",
    "# add comment\n",
    "jira.add_comment(issue_key=issue_details[\"ticket_id\"], comment=\"Starting the analysis!\")"
   ]
  },
  {
   "cell_type": "code",
   "execution_count": 8,
   "id": "3b809595",
   "metadata": {},
   "outputs": [
    {
     "data": {
      "text/plain": [
       "{'ticket_id': 'KAN-9',\n",
       " 'summary': 'Car Models Analysis',\n",
       " 'description': 'How many unqiue car models we have per car category? Sort the results in descending order!',\n",
       " 'status': 'К выполнению',\n",
       " 'assignee': {'account_id': None, 'name': None, 'email': None},\n",
       " 'reporter': {'account_id': '70121:f86554c4-819a-470f-9606-bf3e8b1202e6',\n",
       "  'name': 'Vladislav Raskoshinskii',\n",
       "  'email': 'vladislavphysique@gmail.com'},\n",
       " 'priority': 'Medium',\n",
       " 'due_date': None,\n",
       " 'created_date': '2025-06-18T17:47:39.964+0200',\n",
       " 'updated_date': '2025-06-18T17:47:40.039+0200'}"
      ]
     },
     "execution_count": 8,
     "metadata": {},
     "output_type": "execute_result"
    }
   ],
   "source": [
    "jira.add_comment(issue_key=issue_details[\"ticket_id\"], comment=\"Starting the analysis!\")"
   ]
  },
  {
   "cell_type": "code",
   "execution_count": 6,
   "id": "6a6c93c1",
   "metadata": {},
   "outputs": [
    {
     "data": {
      "text/plain": [
       "{'ticket_id': 'KAN-9',\n",
       " 'summary': 'Car Models Analysis',\n",
       " 'description': 'How many unqiue car models we have per car category? Sort the results in descending order!',\n",
       " 'status': 'К выполнению',\n",
       " 'assignee': {'account_id': None, 'name': None, 'email': None},\n",
       " 'reporter': {'account_id': '70121:f86554c4-819a-470f-9606-bf3e8b1202e6',\n",
       "  'name': 'Vladislav Raskoshinskii',\n",
       "  'email': 'vladislavphysique@gmail.com'},\n",
       " 'priority': 'Medium',\n",
       " 'due_date': None,\n",
       " 'created_date': '2025-06-18T17:47:39.964+0200',\n",
       " 'updated_date': '2025-06-18T17:47:40.039+0200'}"
      ]
     },
     "execution_count": 6,
     "metadata": {},
     "output_type": "execute_result"
    }
   ],
   "source": [
    "jira.update_issue(issue_id=issue_details.ticket_id, status=\"In Progress\")"
   ]
  },
  {
   "cell_type": "code",
   "execution_count": null,
   "id": "225e607e",
   "metadata": {},
   "outputs": [],
   "source": []
  }
 ],
 "metadata": {
  "kernelspec": {
   "display_name": "data-analyzer",
   "language": "python",
   "name": "python3"
  },
  "language_info": {
   "codemirror_mode": {
    "name": "ipython",
    "version": 3
   },
   "file_extension": ".py",
   "mimetype": "text/x-python",
   "name": "python",
   "nbconvert_exporter": "python",
   "pygments_lexer": "ipython3",
   "version": "3.11.2"
  }
 },
 "nbformat": 4,
 "nbformat_minor": 5
}
